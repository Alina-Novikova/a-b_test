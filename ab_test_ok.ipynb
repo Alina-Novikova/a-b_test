{
 "cells": [
  {
   "cell_type": "markdown",
   "metadata": {},
   "source": [
    "# ***Проект: Принятие решений в бизнесе***"
   ]
  },
  {
   "cell_type": "markdown",
   "metadata": {},
   "source": [
    "   Проведем аналитиз данных крупного интернет-магазина. Аналитик вместе с отделом маркетинга подготовили список гипотез для увеличения выручки. Произведем приоритизацию гипотез, применив фреймворки ICE и RICE для приоритизации гипотез, запустим A/B-тест и проанализируем его результаты:\n",
    "   *  оценим кумулятивную выручки по группам;\n",
    "   *  кумулятивный средний чек по группам;\n",
    "   *  построим график относительного изменения кумулятивного среднего чека группы B к группе A;\n",
    "   *  произведем оценку аномальных значений в данных, очистим данные от них и проведем повторную оценку по выше перечисленным параметрам по \"чистым\" данным и сравним результаты."
   ]
  },
  {
   "cell_type": "markdown",
   "metadata": {},
   "source": [
    " ## Подготовка данных к анализу"
   ]
  },
  {
   "cell_type": "markdown",
   "metadata": {},
   "source": [
    "Для анализа представлено 3 файла с данными. Загрузим их и ознакомимся с представленной информацией."
   ]
  },
  {
   "cell_type": "code",
   "execution_count": 1,
   "metadata": {},
   "outputs": [],
   "source": [
    "import pandas as pd\n",
    "import numpy as np\n",
    "import datetime as dt\n",
    "import matplotlib.pyplot as plt\n",
    "import math\n",
    "from scipy import stats as st\n",
    "from io import BytesIO\n",
    "import requests"
   ]
  },
  {
   "cell_type": "code",
   "execution_count": 2,
   "metadata": {},
   "outputs": [],
   "source": [
    "def read_df(id):\n",
    "    spreadsheet_id = id\n",
    "    file_name = 'https://docs.google.com/spreadsheets/d/{}/export?format=csv'.format(spreadsheet_id)\n",
    "    r = requests.get(file_name)\n",
    "    pd.set_option('display.max_colwidth', None)\n",
    "    df_name = pd.read_csv(BytesIO(r.content))\n",
    "    return(df_name)"
   ]
  },
  {
   "cell_type": "code",
   "execution_count": 3,
   "metadata": {
    "scrolled": true
   },
   "outputs": [
    {
     "data": {
      "text/html": [
       "<div>\n",
       "<style scoped>\n",
       "    .dataframe tbody tr th:only-of-type {\n",
       "        vertical-align: middle;\n",
       "    }\n",
       "\n",
       "    .dataframe tbody tr th {\n",
       "        vertical-align: top;\n",
       "    }\n",
       "\n",
       "    .dataframe thead th {\n",
       "        text-align: right;\n",
       "    }\n",
       "</style>\n",
       "<table border=\"1\" class=\"dataframe\">\n",
       "  <thead>\n",
       "    <tr style=\"text-align: right;\">\n",
       "      <th></th>\n",
       "      <th>Hypothesis</th>\n",
       "      <th>Reach</th>\n",
       "      <th>Impact</th>\n",
       "      <th>Confidence</th>\n",
       "      <th>Efforts</th>\n",
       "    </tr>\n",
       "  </thead>\n",
       "  <tbody>\n",
       "    <tr>\n",
       "      <th>0</th>\n",
       "      <td>Добавить два новых канала привлечения трафика, что позволит привлекать на 30% больше пользователей</td>\n",
       "      <td>3</td>\n",
       "      <td>10</td>\n",
       "      <td>8</td>\n",
       "      <td>6</td>\n",
       "    </tr>\n",
       "    <tr>\n",
       "      <th>1</th>\n",
       "      <td>Запустить собственную службу доставки, что сократит срок доставки заказов</td>\n",
       "      <td>2</td>\n",
       "      <td>5</td>\n",
       "      <td>4</td>\n",
       "      <td>10</td>\n",
       "    </tr>\n",
       "    <tr>\n",
       "      <th>2</th>\n",
       "      <td>Добавить блоки рекомендаций товаров на сайт интернет магазина, чтобы повысить конверсию и средний чек заказа</td>\n",
       "      <td>8</td>\n",
       "      <td>3</td>\n",
       "      <td>7</td>\n",
       "      <td>3</td>\n",
       "    </tr>\n",
       "    <tr>\n",
       "      <th>3</th>\n",
       "      <td>Изменить структура категорий, что увеличит конверсию, т.к. пользователи быстрее найдут нужный товар</td>\n",
       "      <td>8</td>\n",
       "      <td>3</td>\n",
       "      <td>3</td>\n",
       "      <td>8</td>\n",
       "    </tr>\n",
       "    <tr>\n",
       "      <th>4</th>\n",
       "      <td>Изменить цвет фона главной страницы, чтобы увеличить вовлеченность пользователей</td>\n",
       "      <td>3</td>\n",
       "      <td>1</td>\n",
       "      <td>1</td>\n",
       "      <td>1</td>\n",
       "    </tr>\n",
       "  </tbody>\n",
       "</table>\n",
       "</div>"
      ],
      "text/plain": [
       "                                                                                                     Hypothesis  \\\n",
       "0            Добавить два новых канала привлечения трафика, что позволит привлекать на 30% больше пользователей   \n",
       "1                                     Запустить собственную службу доставки, что сократит срок доставки заказов   \n",
       "2  Добавить блоки рекомендаций товаров на сайт интернет магазина, чтобы повысить конверсию и средний чек заказа   \n",
       "3           Изменить структура категорий, что увеличит конверсию, т.к. пользователи быстрее найдут нужный товар   \n",
       "4                              Изменить цвет фона главной страницы, чтобы увеличить вовлеченность пользователей   \n",
       "\n",
       "   Reach  Impact  Confidence  Efforts  \n",
       "0      3      10           8        6  \n",
       "1      2       5           4       10  \n",
       "2      8       3           7        3  \n",
       "3      8       3           3        8  \n",
       "4      3       1           1        1  "
      ]
     },
     "metadata": {},
     "output_type": "display_data"
    }
   ],
   "source": [
    "id = '1Dkaz2VOZ18E0v3ELPJjd2y7l4AZqcjfv1b3NfUyBuMg'\n",
    "hypothesis = read_df(id)\n",
    "display(hypothesis.head())"
   ]
  },
  {
   "cell_type": "markdown",
   "metadata": {},
   "source": [
    "Структура файла:\n",
    "* Hypothesis — краткое описание гипотезы;\n",
    "* Reach — охват пользователей по 10-балльной шкале;\n",
    "* Impact — влияние на пользователей по 10-балльной шкале;\n",
    "* Confidence — уверенность в гипотезе по 10-балльной шкале;\n",
    "* Efforts — затраты ресурсов на проверку гипотезы по 10-балльной шкале. Чем больше значение Efforts, тем дороже проверка гипотезы."
   ]
  },
  {
   "cell_type": "code",
   "execution_count": 4,
   "metadata": {},
   "outputs": [
    {
     "data": {
      "text/html": [
       "<div>\n",
       "<style scoped>\n",
       "    .dataframe tbody tr th:only-of-type {\n",
       "        vertical-align: middle;\n",
       "    }\n",
       "\n",
       "    .dataframe tbody tr th {\n",
       "        vertical-align: top;\n",
       "    }\n",
       "\n",
       "    .dataframe thead th {\n",
       "        text-align: right;\n",
       "    }\n",
       "</style>\n",
       "<table border=\"1\" class=\"dataframe\">\n",
       "  <thead>\n",
       "    <tr style=\"text-align: right;\">\n",
       "      <th></th>\n",
       "      <th>date</th>\n",
       "      <th>group</th>\n",
       "      <th>visitors</th>\n",
       "    </tr>\n",
       "  </thead>\n",
       "  <tbody>\n",
       "    <tr>\n",
       "      <th>0</th>\n",
       "      <td>2019-08-01</td>\n",
       "      <td>A</td>\n",
       "      <td>719</td>\n",
       "    </tr>\n",
       "    <tr>\n",
       "      <th>1</th>\n",
       "      <td>2019-08-02</td>\n",
       "      <td>A</td>\n",
       "      <td>619</td>\n",
       "    </tr>\n",
       "    <tr>\n",
       "      <th>2</th>\n",
       "      <td>2019-08-03</td>\n",
       "      <td>A</td>\n",
       "      <td>507</td>\n",
       "    </tr>\n",
       "    <tr>\n",
       "      <th>3</th>\n",
       "      <td>2019-08-04</td>\n",
       "      <td>A</td>\n",
       "      <td>717</td>\n",
       "    </tr>\n",
       "    <tr>\n",
       "      <th>4</th>\n",
       "      <td>2019-08-05</td>\n",
       "      <td>A</td>\n",
       "      <td>756</td>\n",
       "    </tr>\n",
       "  </tbody>\n",
       "</table>\n",
       "</div>"
      ],
      "text/plain": [
       "         date group  visitors\n",
       "0  2019-08-01     A       719\n",
       "1  2019-08-02     A       619\n",
       "2  2019-08-03     A       507\n",
       "3  2019-08-04     A       717\n",
       "4  2019-08-05     A       756"
      ]
     },
     "metadata": {},
     "output_type": "display_data"
    }
   ],
   "source": [
    "id = '1spai0QK6-B04rGY3599vUcZPbTxbWMSHq7F_7AnHV1Q'\n",
    "visitors = read_df(id)\n",
    "display(visitors.head())"
   ]
  },
  {
   "cell_type": "markdown",
   "metadata": {},
   "source": [
    "Структура файла:\n",
    "* date — дата;\n",
    "* group — группа A/B-теста;\n",
    "* visitors — количество пользователей в указанную дату в указанной группе A/B-теста"
   ]
  },
  {
   "cell_type": "code",
   "execution_count": 5,
   "metadata": {},
   "outputs": [
    {
     "data": {
      "text/html": [
       "<div>\n",
       "<style scoped>\n",
       "    .dataframe tbody tr th:only-of-type {\n",
       "        vertical-align: middle;\n",
       "    }\n",
       "\n",
       "    .dataframe tbody tr th {\n",
       "        vertical-align: top;\n",
       "    }\n",
       "\n",
       "    .dataframe thead th {\n",
       "        text-align: right;\n",
       "    }\n",
       "</style>\n",
       "<table border=\"1\" class=\"dataframe\">\n",
       "  <thead>\n",
       "    <tr style=\"text-align: right;\">\n",
       "      <th></th>\n",
       "      <th>transactionId</th>\n",
       "      <th>visitorId</th>\n",
       "      <th>date</th>\n",
       "      <th>revenue</th>\n",
       "      <th>group</th>\n",
       "    </tr>\n",
       "  </thead>\n",
       "  <tbody>\n",
       "    <tr>\n",
       "      <th>0</th>\n",
       "      <td>3667963787</td>\n",
       "      <td>3312258926</td>\n",
       "      <td>2019-08-15</td>\n",
       "      <td>1650</td>\n",
       "      <td>B</td>\n",
       "    </tr>\n",
       "    <tr>\n",
       "      <th>1</th>\n",
       "      <td>2804400009</td>\n",
       "      <td>3642806036</td>\n",
       "      <td>2019-08-15</td>\n",
       "      <td>730</td>\n",
       "      <td>B</td>\n",
       "    </tr>\n",
       "    <tr>\n",
       "      <th>2</th>\n",
       "      <td>2961555356</td>\n",
       "      <td>4069496402</td>\n",
       "      <td>2019-08-15</td>\n",
       "      <td>400</td>\n",
       "      <td>A</td>\n",
       "    </tr>\n",
       "    <tr>\n",
       "      <th>3</th>\n",
       "      <td>3797467345</td>\n",
       "      <td>1196621759</td>\n",
       "      <td>2019-08-15</td>\n",
       "      <td>9759</td>\n",
       "      <td>B</td>\n",
       "    </tr>\n",
       "    <tr>\n",
       "      <th>4</th>\n",
       "      <td>2282983706</td>\n",
       "      <td>2322279887</td>\n",
       "      <td>2019-08-15</td>\n",
       "      <td>2308</td>\n",
       "      <td>B</td>\n",
       "    </tr>\n",
       "  </tbody>\n",
       "</table>\n",
       "</div>"
      ],
      "text/plain": [
       "   transactionId   visitorId        date  revenue group\n",
       "0     3667963787  3312258926  2019-08-15     1650     B\n",
       "1     2804400009  3642806036  2019-08-15      730     B\n",
       "2     2961555356  4069496402  2019-08-15      400     A\n",
       "3     3797467345  1196621759  2019-08-15     9759     B\n",
       "4     2282983706  2322279887  2019-08-15     2308     B"
      ]
     },
     "metadata": {},
     "output_type": "display_data"
    }
   ],
   "source": [
    "id = '19-wRuphYg2kOGLCvZGGNHQyZ_0uCjUsycRt7b9Swamk'\n",
    "orders = read_df(id)\n",
    "display(orders.head())"
   ]
  },
  {
   "cell_type": "markdown",
   "metadata": {},
   "source": [
    "Структура файла:\n",
    "* transactionId — идентификатор заказа;\n",
    "* visitorId — идентификатор пользователя, совершившего заказ;\n",
    "* date — дата, когда был совершён заказ;\n",
    "* revenue — выручка заказа;\n",
    "* group — группа A/B-теста, в которую попал заказ."
   ]
  },
  {
   "cell_type": "markdown",
   "metadata": {},
   "source": [
    "Проведем предобработку данных. Для этого изучим общую информацию о содержимом датафреймов."
   ]
  },
  {
   "cell_type": "code",
   "execution_count": 6,
   "metadata": {},
   "outputs": [],
   "source": [
    "# функция для обзора данных\n",
    "def df_review(df):\n",
    "    display(df.head())\n",
    "    print('---------------------------------------------------------------------------------------------------------')\n",
    "    print(df.info())\n",
    "    print('---------------------------------------------------------------------------------------------------------')\n",
    "    print(df.describe())\n",
    "    print('---------------------------------------------------------------------------------------------------------')\n",
    "    print('Количество пропусков в значениях:',  df.isna().sum())\n",
    "    print('---------------------------------------------------------------------------------------------------------')\n",
    "    print('Количество дублирующих записей:', df.duplicated().sum())"
   ]
  },
  {
   "cell_type": "code",
   "execution_count": 7,
   "metadata": {},
   "outputs": [
    {
     "data": {
      "text/html": [
       "<div>\n",
       "<style scoped>\n",
       "    .dataframe tbody tr th:only-of-type {\n",
       "        vertical-align: middle;\n",
       "    }\n",
       "\n",
       "    .dataframe tbody tr th {\n",
       "        vertical-align: top;\n",
       "    }\n",
       "\n",
       "    .dataframe thead th {\n",
       "        text-align: right;\n",
       "    }\n",
       "</style>\n",
       "<table border=\"1\" class=\"dataframe\">\n",
       "  <thead>\n",
       "    <tr style=\"text-align: right;\">\n",
       "      <th></th>\n",
       "      <th>Hypothesis</th>\n",
       "      <th>Reach</th>\n",
       "      <th>Impact</th>\n",
       "      <th>Confidence</th>\n",
       "      <th>Efforts</th>\n",
       "    </tr>\n",
       "  </thead>\n",
       "  <tbody>\n",
       "    <tr>\n",
       "      <th>0</th>\n",
       "      <td>Добавить два новых канала привлечения трафика, что позволит привлекать на 30% больше пользователей</td>\n",
       "      <td>3</td>\n",
       "      <td>10</td>\n",
       "      <td>8</td>\n",
       "      <td>6</td>\n",
       "    </tr>\n",
       "    <tr>\n",
       "      <th>1</th>\n",
       "      <td>Запустить собственную службу доставки, что сократит срок доставки заказов</td>\n",
       "      <td>2</td>\n",
       "      <td>5</td>\n",
       "      <td>4</td>\n",
       "      <td>10</td>\n",
       "    </tr>\n",
       "    <tr>\n",
       "      <th>2</th>\n",
       "      <td>Добавить блоки рекомендаций товаров на сайт интернет магазина, чтобы повысить конверсию и средний чек заказа</td>\n",
       "      <td>8</td>\n",
       "      <td>3</td>\n",
       "      <td>7</td>\n",
       "      <td>3</td>\n",
       "    </tr>\n",
       "    <tr>\n",
       "      <th>3</th>\n",
       "      <td>Изменить структура категорий, что увеличит конверсию, т.к. пользователи быстрее найдут нужный товар</td>\n",
       "      <td>8</td>\n",
       "      <td>3</td>\n",
       "      <td>3</td>\n",
       "      <td>8</td>\n",
       "    </tr>\n",
       "    <tr>\n",
       "      <th>4</th>\n",
       "      <td>Изменить цвет фона главной страницы, чтобы увеличить вовлеченность пользователей</td>\n",
       "      <td>3</td>\n",
       "      <td>1</td>\n",
       "      <td>1</td>\n",
       "      <td>1</td>\n",
       "    </tr>\n",
       "  </tbody>\n",
       "</table>\n",
       "</div>"
      ],
      "text/plain": [
       "                                                                                                     Hypothesis  \\\n",
       "0            Добавить два новых канала привлечения трафика, что позволит привлекать на 30% больше пользователей   \n",
       "1                                     Запустить собственную службу доставки, что сократит срок доставки заказов   \n",
       "2  Добавить блоки рекомендаций товаров на сайт интернет магазина, чтобы повысить конверсию и средний чек заказа   \n",
       "3           Изменить структура категорий, что увеличит конверсию, т.к. пользователи быстрее найдут нужный товар   \n",
       "4                              Изменить цвет фона главной страницы, чтобы увеличить вовлеченность пользователей   \n",
       "\n",
       "   Reach  Impact  Confidence  Efforts  \n",
       "0      3      10           8        6  \n",
       "1      2       5           4       10  \n",
       "2      8       3           7        3  \n",
       "3      8       3           3        8  \n",
       "4      3       1           1        1  "
      ]
     },
     "metadata": {},
     "output_type": "display_data"
    },
    {
     "name": "stdout",
     "output_type": "stream",
     "text": [
      "---------------------------------------------------------------------------------------------------------\n",
      "<class 'pandas.core.frame.DataFrame'>\n",
      "RangeIndex: 9 entries, 0 to 8\n",
      "Data columns (total 5 columns):\n",
      " #   Column      Non-Null Count  Dtype \n",
      "---  ------      --------------  ----- \n",
      " 0   Hypothesis  9 non-null      object\n",
      " 1   Reach       9 non-null      int64 \n",
      " 2   Impact      9 non-null      int64 \n",
      " 3   Confidence  9 non-null      int64 \n",
      " 4   Efforts     9 non-null      int64 \n",
      "dtypes: int64(4), object(1)\n",
      "memory usage: 488.0+ bytes\n",
      "None\n",
      "---------------------------------------------------------------------------------------------------------\n",
      "           Reach     Impact  Confidence    Efforts\n",
      "count   9.000000   9.000000    9.000000   9.000000\n",
      "mean    4.777778   4.777778    5.555556   4.888889\n",
      "std     3.153481   3.192874    3.045944   2.803767\n",
      "min     1.000000   1.000000    1.000000   1.000000\n",
      "25%     3.000000   3.000000    3.000000   3.000000\n",
      "50%     3.000000   3.000000    7.000000   5.000000\n",
      "75%     8.000000   7.000000    8.000000   6.000000\n",
      "max    10.000000  10.000000    9.000000  10.000000\n",
      "---------------------------------------------------------------------------------------------------------\n",
      "Количество пропусков в значениях: Hypothesis    0\n",
      "Reach         0\n",
      "Impact        0\n",
      "Confidence    0\n",
      "Efforts       0\n",
      "dtype: int64\n",
      "---------------------------------------------------------------------------------------------------------\n",
      "Количество дублирующих записей: 0\n"
     ]
    }
   ],
   "source": [
    "df_review(hypothesis)"
   ]
  },
  {
   "cell_type": "code",
   "execution_count": 8,
   "metadata": {},
   "outputs": [],
   "source": [
    "hypothesis.columns = [x.lower().replace(' ', '_') for x in hypothesis.columns]"
   ]
  },
  {
   "cell_type": "code",
   "execution_count": 9,
   "metadata": {},
   "outputs": [
    {
     "data": {
      "text/html": [
       "<div>\n",
       "<style scoped>\n",
       "    .dataframe tbody tr th:only-of-type {\n",
       "        vertical-align: middle;\n",
       "    }\n",
       "\n",
       "    .dataframe tbody tr th {\n",
       "        vertical-align: top;\n",
       "    }\n",
       "\n",
       "    .dataframe thead th {\n",
       "        text-align: right;\n",
       "    }\n",
       "</style>\n",
       "<table border=\"1\" class=\"dataframe\">\n",
       "  <thead>\n",
       "    <tr style=\"text-align: right;\">\n",
       "      <th></th>\n",
       "      <th>date</th>\n",
       "      <th>group</th>\n",
       "      <th>visitors</th>\n",
       "    </tr>\n",
       "  </thead>\n",
       "  <tbody>\n",
       "    <tr>\n",
       "      <th>0</th>\n",
       "      <td>2019-08-01</td>\n",
       "      <td>A</td>\n",
       "      <td>719</td>\n",
       "    </tr>\n",
       "    <tr>\n",
       "      <th>1</th>\n",
       "      <td>2019-08-02</td>\n",
       "      <td>A</td>\n",
       "      <td>619</td>\n",
       "    </tr>\n",
       "    <tr>\n",
       "      <th>2</th>\n",
       "      <td>2019-08-03</td>\n",
       "      <td>A</td>\n",
       "      <td>507</td>\n",
       "    </tr>\n",
       "    <tr>\n",
       "      <th>3</th>\n",
       "      <td>2019-08-04</td>\n",
       "      <td>A</td>\n",
       "      <td>717</td>\n",
       "    </tr>\n",
       "    <tr>\n",
       "      <th>4</th>\n",
       "      <td>2019-08-05</td>\n",
       "      <td>A</td>\n",
       "      <td>756</td>\n",
       "    </tr>\n",
       "  </tbody>\n",
       "</table>\n",
       "</div>"
      ],
      "text/plain": [
       "         date group  visitors\n",
       "0  2019-08-01     A       719\n",
       "1  2019-08-02     A       619\n",
       "2  2019-08-03     A       507\n",
       "3  2019-08-04     A       717\n",
       "4  2019-08-05     A       756"
      ]
     },
     "metadata": {},
     "output_type": "display_data"
    },
    {
     "name": "stdout",
     "output_type": "stream",
     "text": [
      "---------------------------------------------------------------------------------------------------------\n",
      "<class 'pandas.core.frame.DataFrame'>\n",
      "RangeIndex: 62 entries, 0 to 61\n",
      "Data columns (total 3 columns):\n",
      " #   Column    Non-Null Count  Dtype \n",
      "---  ------    --------------  ----- \n",
      " 0   date      62 non-null     object\n",
      " 1   group     62 non-null     object\n",
      " 2   visitors  62 non-null     int64 \n",
      "dtypes: int64(1), object(2)\n",
      "memory usage: 1.6+ KB\n",
      "None\n",
      "---------------------------------------------------------------------------------------------------------\n",
      "         visitors\n",
      "count   62.000000\n",
      "mean   607.290323\n",
      "std    114.400560\n",
      "min    361.000000\n",
      "25%    534.000000\n",
      "50%    624.500000\n",
      "75%    710.500000\n",
      "max    770.000000\n",
      "---------------------------------------------------------------------------------------------------------\n",
      "Количество пропусков в значениях: date        0\n",
      "group       0\n",
      "visitors    0\n",
      "dtype: int64\n",
      "---------------------------------------------------------------------------------------------------------\n",
      "Количество дублирующих записей: 0\n"
     ]
    }
   ],
   "source": [
    "df_review(visitors)"
   ]
  },
  {
   "cell_type": "code",
   "execution_count": 10,
   "metadata": {},
   "outputs": [
    {
     "data": {
      "text/html": [
       "<div>\n",
       "<style scoped>\n",
       "    .dataframe tbody tr th:only-of-type {\n",
       "        vertical-align: middle;\n",
       "    }\n",
       "\n",
       "    .dataframe tbody tr th {\n",
       "        vertical-align: top;\n",
       "    }\n",
       "\n",
       "    .dataframe thead th {\n",
       "        text-align: right;\n",
       "    }\n",
       "</style>\n",
       "<table border=\"1\" class=\"dataframe\">\n",
       "  <thead>\n",
       "    <tr style=\"text-align: right;\">\n",
       "      <th></th>\n",
       "      <th>transactionId</th>\n",
       "      <th>visitorId</th>\n",
       "      <th>date</th>\n",
       "      <th>revenue</th>\n",
       "      <th>group</th>\n",
       "    </tr>\n",
       "  </thead>\n",
       "  <tbody>\n",
       "    <tr>\n",
       "      <th>0</th>\n",
       "      <td>3667963787</td>\n",
       "      <td>3312258926</td>\n",
       "      <td>2019-08-15</td>\n",
       "      <td>1650</td>\n",
       "      <td>B</td>\n",
       "    </tr>\n",
       "    <tr>\n",
       "      <th>1</th>\n",
       "      <td>2804400009</td>\n",
       "      <td>3642806036</td>\n",
       "      <td>2019-08-15</td>\n",
       "      <td>730</td>\n",
       "      <td>B</td>\n",
       "    </tr>\n",
       "    <tr>\n",
       "      <th>2</th>\n",
       "      <td>2961555356</td>\n",
       "      <td>4069496402</td>\n",
       "      <td>2019-08-15</td>\n",
       "      <td>400</td>\n",
       "      <td>A</td>\n",
       "    </tr>\n",
       "    <tr>\n",
       "      <th>3</th>\n",
       "      <td>3797467345</td>\n",
       "      <td>1196621759</td>\n",
       "      <td>2019-08-15</td>\n",
       "      <td>9759</td>\n",
       "      <td>B</td>\n",
       "    </tr>\n",
       "    <tr>\n",
       "      <th>4</th>\n",
       "      <td>2282983706</td>\n",
       "      <td>2322279887</td>\n",
       "      <td>2019-08-15</td>\n",
       "      <td>2308</td>\n",
       "      <td>B</td>\n",
       "    </tr>\n",
       "  </tbody>\n",
       "</table>\n",
       "</div>"
      ],
      "text/plain": [
       "   transactionId   visitorId        date  revenue group\n",
       "0     3667963787  3312258926  2019-08-15     1650     B\n",
       "1     2804400009  3642806036  2019-08-15      730     B\n",
       "2     2961555356  4069496402  2019-08-15      400     A\n",
       "3     3797467345  1196621759  2019-08-15     9759     B\n",
       "4     2282983706  2322279887  2019-08-15     2308     B"
      ]
     },
     "metadata": {},
     "output_type": "display_data"
    },
    {
     "name": "stdout",
     "output_type": "stream",
     "text": [
      "---------------------------------------------------------------------------------------------------------\n",
      "<class 'pandas.core.frame.DataFrame'>\n",
      "RangeIndex: 1197 entries, 0 to 1196\n",
      "Data columns (total 5 columns):\n",
      " #   Column         Non-Null Count  Dtype \n",
      "---  ------         --------------  ----- \n",
      " 0   transactionId  1197 non-null   int64 \n",
      " 1   visitorId      1197 non-null   int64 \n",
      " 2   date           1197 non-null   object\n",
      " 3   revenue        1197 non-null   int64 \n",
      " 4   group          1197 non-null   object\n",
      "dtypes: int64(3), object(2)\n",
      "memory usage: 46.9+ KB\n",
      "None\n",
      "---------------------------------------------------------------------------------------------------------\n",
      "       transactionId     visitorId       revenue\n",
      "count   1.197000e+03  1.197000e+03  1.197000e+03\n",
      "mean    2.155621e+09  2.165960e+09  8.348006e+03\n",
      "std     1.229085e+09  1.236014e+09  3.919113e+04\n",
      "min     1.062393e+06  5.114589e+06  5.000000e+01\n",
      "25%     1.166776e+09  1.111826e+09  1.220000e+03\n",
      "50%     2.145194e+09  2.217985e+09  2.978000e+03\n",
      "75%     3.237740e+09  3.177606e+09  8.290000e+03\n",
      "max     4.293856e+09  4.283872e+09  1.294500e+06\n",
      "---------------------------------------------------------------------------------------------------------\n",
      "Количество пропусков в значениях: transactionId    0\n",
      "visitorId        0\n",
      "date             0\n",
      "revenue          0\n",
      "group            0\n",
      "dtype: int64\n",
      "---------------------------------------------------------------------------------------------------------\n",
      "Количество дублирующих записей: 0\n"
     ]
    }
   ],
   "source": [
    "df_review(orders)"
   ]
  },
  {
   "cell_type": "code",
   "execution_count": 11,
   "metadata": {},
   "outputs": [],
   "source": [
    "#колонки с датами приведем к формату datetime\n",
    "orders[\"date\"] = orders[\"date\"].map(lambda x: dt.datetime.strptime(x, '%Y-%m-%d'))\n",
    "visitors[\"date\"] = visitors[\"date\"].map(lambda x: dt.datetime.strptime(x, '%Y-%m-%d'))"
   ]
  },
  {
   "cell_type": "code",
   "execution_count": 12,
   "metadata": {},
   "outputs": [
    {
     "name": "stdout",
     "output_type": "stream",
     "text": [
      "<class 'pandas.core.frame.DataFrame'>\n",
      "RangeIndex: 62 entries, 0 to 61\n",
      "Data columns (total 3 columns):\n",
      " #   Column    Non-Null Count  Dtype         \n",
      "---  ------    --------------  -----         \n",
      " 0   date      62 non-null     datetime64[ns]\n",
      " 1   group     62 non-null     object        \n",
      " 2   visitors  62 non-null     int64         \n",
      "dtypes: datetime64[ns](1), int64(1), object(1)\n",
      "memory usage: 1.6+ KB\n",
      "<class 'pandas.core.frame.DataFrame'>\n",
      "RangeIndex: 1197 entries, 0 to 1196\n",
      "Data columns (total 5 columns):\n",
      " #   Column         Non-Null Count  Dtype         \n",
      "---  ------         --------------  -----         \n",
      " 0   transactionId  1197 non-null   int64         \n",
      " 1   visitorId      1197 non-null   int64         \n",
      " 2   date           1197 non-null   datetime64[ns]\n",
      " 3   revenue        1197 non-null   int64         \n",
      " 4   group          1197 non-null   object        \n",
      "dtypes: datetime64[ns](1), int64(3), object(1)\n",
      "memory usage: 46.9+ KB\n"
     ]
    }
   ],
   "source": [
    "visitors.info()\n",
    "orders.info()"
   ]
  },
  {
   "cell_type": "markdown",
   "metadata": {},
   "source": [
    "Данные сохранены в форматах, пригодных для дальнейшего анализа."
   ]
  },
  {
   "cell_type": "markdown",
   "metadata": {},
   "source": [
    "## Часть 1. Приоритизация гипотез."
   ]
  },
  {
   "cell_type": "markdown",
   "metadata": {},
   "source": [
    "В файле hypothesis 9 гипотез по увеличению выручки интернет-магазина с указанными параметрами Reach, Impact, Confidence, Effort."
   ]
  },
  {
   "cell_type": "markdown",
   "metadata": {},
   "source": [
    "1.1. Применим фреймворк ICE для приоритизации гипотез. Отсортируем их по убыванию приоритета."
   ]
  },
  {
   "cell_type": "code",
   "execution_count": 13,
   "metadata": {},
   "outputs": [
    {
     "data": {
      "text/html": [
       "<div>\n",
       "<style scoped>\n",
       "    .dataframe tbody tr th:only-of-type {\n",
       "        vertical-align: middle;\n",
       "    }\n",
       "\n",
       "    .dataframe tbody tr th {\n",
       "        vertical-align: top;\n",
       "    }\n",
       "\n",
       "    .dataframe thead th {\n",
       "        text-align: right;\n",
       "    }\n",
       "</style>\n",
       "<table border=\"1\" class=\"dataframe\">\n",
       "  <thead>\n",
       "    <tr style=\"text-align: right;\">\n",
       "      <th></th>\n",
       "      <th>hypothesis</th>\n",
       "      <th>ICE</th>\n",
       "    </tr>\n",
       "  </thead>\n",
       "  <tbody>\n",
       "    <tr>\n",
       "      <th>8</th>\n",
       "      <td>Запустить акцию, дающую скидку на товар в день рождения</td>\n",
       "      <td>16.20</td>\n",
       "    </tr>\n",
       "    <tr>\n",
       "      <th>0</th>\n",
       "      <td>Добавить два новых канала привлечения трафика, что позволит привлекать на 30% больше пользователей</td>\n",
       "      <td>13.33</td>\n",
       "    </tr>\n",
       "    <tr>\n",
       "      <th>7</th>\n",
       "      <td>Добавить форму подписки на все основные страницы, чтобы собрать базу клиентов для email-рассылок</td>\n",
       "      <td>11.20</td>\n",
       "    </tr>\n",
       "    <tr>\n",
       "      <th>6</th>\n",
       "      <td>Показать на главной странице баннеры с актуальными акциями и распродажами, чтобы увеличить конверсию</td>\n",
       "      <td>8.00</td>\n",
       "    </tr>\n",
       "    <tr>\n",
       "      <th>2</th>\n",
       "      <td>Добавить блоки рекомендаций товаров на сайт интернет магазина, чтобы повысить конверсию и средний чек заказа</td>\n",
       "      <td>7.00</td>\n",
       "    </tr>\n",
       "    <tr>\n",
       "      <th>1</th>\n",
       "      <td>Запустить собственную службу доставки, что сократит срок доставки заказов</td>\n",
       "      <td>2.00</td>\n",
       "    </tr>\n",
       "    <tr>\n",
       "      <th>5</th>\n",
       "      <td>Добавить страницу отзывов клиентов о магазине, что позволит увеличить количество заказов</td>\n",
       "      <td>1.33</td>\n",
       "    </tr>\n",
       "    <tr>\n",
       "      <th>3</th>\n",
       "      <td>Изменить структура категорий, что увеличит конверсию, т.к. пользователи быстрее найдут нужный товар</td>\n",
       "      <td>1.12</td>\n",
       "    </tr>\n",
       "    <tr>\n",
       "      <th>4</th>\n",
       "      <td>Изменить цвет фона главной страницы, чтобы увеличить вовлеченность пользователей</td>\n",
       "      <td>1.00</td>\n",
       "    </tr>\n",
       "  </tbody>\n",
       "</table>\n",
       "</div>"
      ],
      "text/plain": [
       "                                                                                                     hypothesis  \\\n",
       "8                                                       Запустить акцию, дающую скидку на товар в день рождения   \n",
       "0            Добавить два новых канала привлечения трафика, что позволит привлекать на 30% больше пользователей   \n",
       "7              Добавить форму подписки на все основные страницы, чтобы собрать базу клиентов для email-рассылок   \n",
       "6          Показать на главной странице баннеры с актуальными акциями и распродажами, чтобы увеличить конверсию   \n",
       "2  Добавить блоки рекомендаций товаров на сайт интернет магазина, чтобы повысить конверсию и средний чек заказа   \n",
       "1                                     Запустить собственную службу доставки, что сократит срок доставки заказов   \n",
       "5                      Добавить страницу отзывов клиентов о магазине, что позволит увеличить количество заказов   \n",
       "3           Изменить структура категорий, что увеличит конверсию, т.к. пользователи быстрее найдут нужный товар   \n",
       "4                              Изменить цвет фона главной страницы, чтобы увеличить вовлеченность пользователей   \n",
       "\n",
       "     ICE  \n",
       "8  16.20  \n",
       "0  13.33  \n",
       "7  11.20  \n",
       "6   8.00  \n",
       "2   7.00  \n",
       "1   2.00  \n",
       "5   1.33  \n",
       "3   1.12  \n",
       "4   1.00  "
      ]
     },
     "metadata": {},
     "output_type": "display_data"
    }
   ],
   "source": [
    "hypothesis['ICE'] = round((hypothesis['impact']*hypothesis['confidence'])/hypothesis['efforts'], 2)\n",
    "\n",
    "display(hypothesis[['hypothesis', 'ICE']].sort_values(by='ICE', ascending = False))"
   ]
  },
  {
   "cell_type": "markdown",
   "metadata": {},
   "source": [
    "По методу ICE наиболее приоритетными являются гипотезы:  \n",
    "  8. Запустить акцию, дающую скидку на товар в день рождения,  \n",
    "  0. Добавить два новых канала привлечения трафика, что позволит привлекать на 30% больше пользователей,  \n",
    "  7. Добавить форму подписки на все основные страницы, чтобы собрать базу клиентов для email-рассылок."
   ]
  },
  {
   "cell_type": "markdown",
   "metadata": {},
   "source": [
    "1.2. Применим фреймворк RICE для приоритизации гипотез. Отсортируем их по убыванию приоритета."
   ]
  },
  {
   "cell_type": "code",
   "execution_count": 38,
   "metadata": {},
   "outputs": [
    {
     "data": {
      "text/html": [
       "<div>\n",
       "<style scoped>\n",
       "    .dataframe tbody tr th:only-of-type {\n",
       "        vertical-align: middle;\n",
       "    }\n",
       "\n",
       "    .dataframe tbody tr th {\n",
       "        vertical-align: top;\n",
       "    }\n",
       "\n",
       "    .dataframe thead th {\n",
       "        text-align: right;\n",
       "    }\n",
       "</style>\n",
       "<table border=\"1\" class=\"dataframe\">\n",
       "  <thead>\n",
       "    <tr style=\"text-align: right;\">\n",
       "      <th></th>\n",
       "      <th>hypothesis</th>\n",
       "      <th>RICE</th>\n",
       "    </tr>\n",
       "  </thead>\n",
       "  <tbody>\n",
       "    <tr>\n",
       "      <th>7</th>\n",
       "      <td>Добавить форму подписки на все основные страницы, чтобы собрать базу клиентов для email-рассылок</td>\n",
       "      <td>112.0</td>\n",
       "    </tr>\n",
       "    <tr>\n",
       "      <th>2</th>\n",
       "      <td>Добавить блоки рекомендаций товаров на сайт интернет магазина, чтобы повысить конверсию и средний чек заказа</td>\n",
       "      <td>56.0</td>\n",
       "    </tr>\n",
       "    <tr>\n",
       "      <th>0</th>\n",
       "      <td>Добавить два новых канала привлечения трафика, что позволит привлекать на 30% больше пользователей</td>\n",
       "      <td>40.0</td>\n",
       "    </tr>\n",
       "    <tr>\n",
       "      <th>6</th>\n",
       "      <td>Показать на главной странице баннеры с актуальными акциями и распродажами, чтобы увеличить конверсию</td>\n",
       "      <td>40.0</td>\n",
       "    </tr>\n",
       "    <tr>\n",
       "      <th>8</th>\n",
       "      <td>Запустить акцию, дающую скидку на товар в день рождения</td>\n",
       "      <td>16.2</td>\n",
       "    </tr>\n",
       "    <tr>\n",
       "      <th>3</th>\n",
       "      <td>Изменить структура категорий, что увеличит конверсию, т.к. пользователи быстрее найдут нужный товар</td>\n",
       "      <td>9.0</td>\n",
       "    </tr>\n",
       "    <tr>\n",
       "      <th>1</th>\n",
       "      <td>Запустить собственную службу доставки, что сократит срок доставки заказов</td>\n",
       "      <td>4.0</td>\n",
       "    </tr>\n",
       "    <tr>\n",
       "      <th>5</th>\n",
       "      <td>Добавить страницу отзывов клиентов о магазине, что позволит увеличить количество заказов</td>\n",
       "      <td>4.0</td>\n",
       "    </tr>\n",
       "    <tr>\n",
       "      <th>4</th>\n",
       "      <td>Изменить цвет фона главной страницы, чтобы увеличить вовлеченность пользователей</td>\n",
       "      <td>3.0</td>\n",
       "    </tr>\n",
       "  </tbody>\n",
       "</table>\n",
       "</div>"
      ],
      "text/plain": [
       "                                                                                                     hypothesis  \\\n",
       "7              Добавить форму подписки на все основные страницы, чтобы собрать базу клиентов для email-рассылок   \n",
       "2  Добавить блоки рекомендаций товаров на сайт интернет магазина, чтобы повысить конверсию и средний чек заказа   \n",
       "0            Добавить два новых канала привлечения трафика, что позволит привлекать на 30% больше пользователей   \n",
       "6          Показать на главной странице баннеры с актуальными акциями и распродажами, чтобы увеличить конверсию   \n",
       "8                                                       Запустить акцию, дающую скидку на товар в день рождения   \n",
       "3           Изменить структура категорий, что увеличит конверсию, т.к. пользователи быстрее найдут нужный товар   \n",
       "1                                     Запустить собственную службу доставки, что сократит срок доставки заказов   \n",
       "5                      Добавить страницу отзывов клиентов о магазине, что позволит увеличить количество заказов   \n",
       "4                              Изменить цвет фона главной страницы, чтобы увеличить вовлеченность пользователей   \n",
       "\n",
       "    RICE  \n",
       "7  112.0  \n",
       "2   56.0  \n",
       "0   40.0  \n",
       "6   40.0  \n",
       "8   16.2  \n",
       "3    9.0  \n",
       "1    4.0  \n",
       "5    4.0  \n",
       "4    3.0  "
      ]
     },
     "metadata": {},
     "output_type": "display_data"
    }
   ],
   "source": [
    "hypothesis['RICE'] = (hypothesis['reach']*hypothesis['impact']*hypothesis['confidence'])/hypothesis['efforts']\n",
    "\n",
    "display(hypothesis[['hypothesis', 'RICE']].sort_values(by='RICE', ascending = False))"
   ]
  },
  {
   "cell_type": "markdown",
   "metadata": {},
   "source": [
    "Схожая ситуация при приоритизации гипотез и с методом RICE: в приоритете гипотезы под номером  \n",
    "7. Добавить форму подписки на все основные страницы, чтобы собрать базу клиентов для email-рассылок,  \n",
    "2. Добавить блоки рекомендаций товаров на сайт интернет магазина, чтобы повысить конверсию и средний чек заказа,  \n",
    "0. Добавить два новых канала привлечения трафика, что позволит привлекать на 30% больше пользователей,  \n",
    "6. Показать на главной странице баннеры с актуальными акциями и распродажами, чтобы увеличить конверсию.  \n",
    "Думаю, на них стоит акцентировать свое внимание отделу маркетинга."
   ]
  },
  {
   "cell_type": "markdown",
   "metadata": {},
   "source": [
    "В пятерке лучших одни и те же гипотезы (0, 2, 6, 7, 8). Однако, если при ICE на первом месте гипотеза \"Запустить акцию, дающую скидку на товар в день рождения\", то при расчёте RICE, на первое место вырвалась гипотеза \"Добавить форму подписки на все основные страницы, чтобы собрать базу клиентов для email-рассылок\".\n",
    "Так получилось потому, что параметр reach Гипотезы \"Добавить форму подписки на все основные страницы, чтобы собрать базу клиентов для email-рассылок\" равен 10, в то время как у остальных гипотез он меньше.\n",
    "Параметр охвата (Reach), использующийся в методе RICE, изменил приоритетность, полученную по методу ICE.\n",
    "Кроме силы гипотезы нужно учитывать и то, сколько пользователей гипотетическое изменение затронет."
   ]
  },
  {
   "cell_type": "markdown",
   "metadata": {},
   "source": [
    "## Часть 2. Анализ A/B-теста"
   ]
  },
  {
   "cell_type": "markdown",
   "metadata": {},
   "source": [
    "#### 1. График кумулятивной выручки по группам."
   ]
  },
  {
   "cell_type": "markdown",
   "metadata": {},
   "source": [
    "Создадим массив уникальных пар значений дат и групп теста:"
   ]
  },
  {
   "cell_type": "code",
   "execution_count": 15,
   "metadata": {},
   "outputs": [],
   "source": [
    "datesGroups = orders[['date','group']].drop_duplicates() "
   ]
  },
  {
   "cell_type": "markdown",
   "metadata": {},
   "source": [
    "Соберём агрегированные кумулятивные по дням данные о заказах в несколько действий. "
   ]
  },
  {
   "cell_type": "code",
   "execution_count": 16,
   "metadata": {},
   "outputs": [],
   "source": [
    "ordersAggregated = datesGroups.apply(lambda x: orders[np.logical_and(orders['date'] <= x['date'],\n",
    "                                                                     orders['group'] == x['group'])]\\\n",
    ".agg({'date' : 'max', 'group' : 'max', 'transactionId' : 'nunique', 'visitorId' : 'nunique', 'revenue' : 'sum'}), axis=1)\\\n",
    ".sort_values(by=['date','group'])"
   ]
  },
  {
   "cell_type": "code",
   "execution_count": 17,
   "metadata": {},
   "outputs": [],
   "source": [
    "visitorsAggregated = datesGroups\\\n",
    ".apply(lambda x: visitors[np.logical_and(visitors['date'] <= x['date'], visitors['group'] == x['group'])]\\\n",
    "       .agg({'date' : 'max', 'group' : 'max', 'visitors' : 'sum'}), axis=1)\\\n",
    ".sort_values(by=['date','group'])"
   ]
  },
  {
   "cell_type": "code",
   "execution_count": 18,
   "metadata": {},
   "outputs": [
    {
     "data": {
      "text/html": [
       "<div>\n",
       "<style scoped>\n",
       "    .dataframe tbody tr th:only-of-type {\n",
       "        vertical-align: middle;\n",
       "    }\n",
       "\n",
       "    .dataframe tbody tr th {\n",
       "        vertical-align: top;\n",
       "    }\n",
       "\n",
       "    .dataframe thead th {\n",
       "        text-align: right;\n",
       "    }\n",
       "</style>\n",
       "<table border=\"1\" class=\"dataframe\">\n",
       "  <thead>\n",
       "    <tr style=\"text-align: right;\">\n",
       "      <th></th>\n",
       "      <th>date</th>\n",
       "      <th>group</th>\n",
       "      <th>orders</th>\n",
       "      <th>buyers</th>\n",
       "      <th>revenue</th>\n",
       "      <th>visitors</th>\n",
       "    </tr>\n",
       "  </thead>\n",
       "  <tbody>\n",
       "    <tr>\n",
       "      <th>0</th>\n",
       "      <td>2019-08-01</td>\n",
       "      <td>A</td>\n",
       "      <td>24</td>\n",
       "      <td>20</td>\n",
       "      <td>148579</td>\n",
       "      <td>719</td>\n",
       "    </tr>\n",
       "    <tr>\n",
       "      <th>1</th>\n",
       "      <td>2019-08-01</td>\n",
       "      <td>B</td>\n",
       "      <td>21</td>\n",
       "      <td>20</td>\n",
       "      <td>101217</td>\n",
       "      <td>713</td>\n",
       "    </tr>\n",
       "    <tr>\n",
       "      <th>2</th>\n",
       "      <td>2019-08-02</td>\n",
       "      <td>A</td>\n",
       "      <td>44</td>\n",
       "      <td>38</td>\n",
       "      <td>242401</td>\n",
       "      <td>1338</td>\n",
       "    </tr>\n",
       "    <tr>\n",
       "      <th>3</th>\n",
       "      <td>2019-08-02</td>\n",
       "      <td>B</td>\n",
       "      <td>45</td>\n",
       "      <td>43</td>\n",
       "      <td>266748</td>\n",
       "      <td>1294</td>\n",
       "    </tr>\n",
       "    <tr>\n",
       "      <th>4</th>\n",
       "      <td>2019-08-03</td>\n",
       "      <td>A</td>\n",
       "      <td>68</td>\n",
       "      <td>62</td>\n",
       "      <td>354874</td>\n",
       "      <td>1845</td>\n",
       "    </tr>\n",
       "  </tbody>\n",
       "</table>\n",
       "</div>"
      ],
      "text/plain": [
       "        date group  orders  buyers  revenue  visitors\n",
       "0 2019-08-01     A      24      20   148579       719\n",
       "1 2019-08-01     B      21      20   101217       713\n",
       "2 2019-08-02     A      44      38   242401      1338\n",
       "3 2019-08-02     B      45      43   266748      1294\n",
       "4 2019-08-03     A      68      62   354874      1845"
      ]
     },
     "metadata": {},
     "output_type": "display_data"
    }
   ],
   "source": [
    "# объединяем кумулятивные данные в одной таблице и присваиваем ее столбцам понятные названия\n",
    "cumulativeData = ordersAggregated.merge(visitorsAggregated, left_on=['date', 'group'], right_on=['date', 'group'])\n",
    "cumulativeData.columns = ['date', 'group', 'orders', 'buyers', 'revenue', 'visitors']\n",
    "\n",
    "display(cumulativeData.head(5))"
   ]
  },
  {
   "cell_type": "markdown",
   "metadata": {},
   "source": [
    "Построим графики кумулятивной выручки по дням и группам A/B-тестирования: "
   ]
  },
  {
   "cell_type": "code",
   "execution_count": 19,
   "metadata": {},
   "outputs": [
    {
     "data": {
      "image/png": "[encoded data removed]",
      "text/plain": [
       "<Figure size 432x288 with 1 Axes>"
      ]
     },
     "metadata": {
      "needs_background": "light"
     },
     "output_type": "display_data"
    }
   ],
   "source": [
    "# датафрейм с кумулятивным количеством заказов и кумулятивной выручкой по дням в группе А\n",
    "cumulativeRevenueA = cumulativeData[cumulativeData['group']=='A'][['date','revenue', 'orders']]\n",
    "\n",
    "# датафрейм с кумулятивным количеством заказов и кумулятивной выручкой по дням в группе B\n",
    "cumulativeRevenueB = cumulativeData[cumulativeData['group']=='B'][['date','revenue', 'orders']]\n",
    "\n",
    "# Строим график выручки группы А\n",
    "plt.plot(cumulativeRevenueA['date'], cumulativeRevenueA['revenue'], label='A')\n",
    "\n",
    "# Строим график выручки группы B\n",
    "plt.plot(cumulativeRevenueB['date'], cumulativeRevenueB['revenue'], label='B')\n",
    "plt.rcParams ['figure.figsize'] = [12, 4]\n",
    "plt.legend() \n",
    "plt.title('График кумулятивной выручки по дням и группам')\n",
    "plt.xlabel('Дата теста')\n",
    "plt.ylabel('Выручка')\n",
    "plt.show()"
   ]
  },
  {
   "cell_type": "markdown",
   "metadata": {},
   "source": [
    "Выручка почти равномерно увеличивается в течение всего теста. Хороший знак.\n",
    "Однако график выручки группы В в нескольких точках резко растет. Это может сигнализировать о всплесках числа заказов, либо о появлении очень дорогих заказов в выборке. Необходимо посмотреть выбросы в данных."
   ]
  },
  {
   "cell_type": "markdown",
   "metadata": {},
   "source": [
    "#### 2. График кумулятивного среднего чека по группам. "
   ]
  },
  {
   "cell_type": "markdown",
   "metadata": {},
   "source": [
    "Построим графики среднего чека по группам — разделим кумулятивную выручку на кумулятивное число заказов:"
   ]
  },
  {
   "cell_type": "code",
   "execution_count": 20,
   "metadata": {},
   "outputs": [
    {
     "data": {
      "image/png": "[encoded data removed]",
      "text/plain": [
       "<Figure size 864x288 with 1 Axes>"
      ]
     },
     "metadata": {
      "needs_background": "light"
     },
     "output_type": "display_data"
    }
   ],
   "source": [
    "plt.plot(cumulativeRevenueA['date'], cumulativeRevenueA['revenue']/cumulativeRevenueA['orders'], label='A')\n",
    "plt.plot(cumulativeRevenueB['date'], cumulativeRevenueB['revenue']/cumulativeRevenueB['orders'], label='B')\n",
    "plt.legend()\n",
    "plt.title('График кумулятивного среднего чека по группам')\n",
    "plt.xlabel('Дата теста')\n",
    "plt.ylabel('Сумма чека (среднее)')\n",
    "plt.show()"
   ]
  },
  {
   "cell_type": "markdown",
   "metadata": {},
   "source": [
    "Средний чек не становится равномерным даже к концу теста.  В целом, отношение среднего чека по группам ещё не установилось, и сейчас делать какие-либо выводы по тесту нельзя. Но, средний чек по группе А на протяжении почти всего теста значительно ниже, чем в группе В.\n",
    "Также, в группу B во второй половине теста попали крупные заказы (резкий всплеск на графике 19.08). Следовательно, ей нужно больше данных, чтобы прийти к реальному среднему чеку и установиться на его уровне.\n"
   ]
  },
  {
   "cell_type": "markdown",
   "metadata": {},
   "source": [
    "#### 3. График относительного изменения кумулятивного среднего чека группы B к группе A."
   ]
  },
  {
   "cell_type": "markdown",
   "metadata": {},
   "source": [
    "Построим график изменения кумулятивного среднего чека группы B к группе A:"
   ]
  },
  {
   "cell_type": "code",
   "execution_count": 21,
   "metadata": {},
   "outputs": [
    {
     "data": {
      "image/png": "[encoded data removed]",
      "text/plain": [
       "<Figure size 864x288 with 1 Axes>"
      ]
     },
     "metadata": {
      "needs_background": "light"
     },
     "output_type": "display_data"
    }
   ],
   "source": [
    "mergedCumulativeRevenue = cumulativeRevenueA.merge(cumulativeRevenueB, left_on='date', right_on='date', how='left', suffixes=['A', 'B'])\n",
    "plt.plot(mergedCumulativeRevenue['date'], (mergedCumulativeRevenue['revenueB']/mergedCumulativeRevenue['ordersB'])/(mergedCumulativeRevenue['revenueA']/mergedCumulativeRevenue['ordersA'])-1)\n",
    "\n",
    "# добавляем ось X\n",
    "plt.axhline(y=0, color='black', linestyle='--') \n",
    "plt.title('График изменения кумулятивного среднего чека группы B к группе A')\n",
    "plt.xlabel('Дата теста')\n",
    "plt.ylabel('Соотношение суммы чека')\n",
    "plt.show()\n"
   ]
  },
  {
   "cell_type": "markdown",
   "metadata": {},
   "source": [
    "В нескольких точках график различия между сегментами резко «скачет». На такие скачки указывает наличие в данных сведений о крупных заказах и выбросах."
   ]
  },
  {
   "cell_type": "markdown",
   "metadata": {},
   "source": [
    "#### 4. График кумулятивного среднего количества заказов на посетителя по группам."
   ]
  },
  {
   "cell_type": "markdown",
   "metadata": {},
   "source": [
    "Построим график изменения кумулятивного среднего количества заказов на посетителя группы B к группе A:"
   ]
  },
  {
   "cell_type": "code",
   "execution_count": 22,
   "metadata": {},
   "outputs": [
    {
     "data": {
      "image/png": "[encoded data removed]",
      "text/plain": [
       "<Figure size 864x288 with 1 Axes>"
      ]
     },
     "metadata": {
      "needs_background": "light"
     },
     "output_type": "display_data"
    }
   ],
   "source": [
    "# считаем среднее количество заказов на посетителя\n",
    "cumulativeData['conversion'] = cumulativeData['orders']/cumulativeData['visitors']\n",
    "\n",
    "# отделяем данные по группе A\n",
    "cumulativeDataA = cumulativeData[cumulativeData['group']=='A']\n",
    "\n",
    "# отделяем данные по группе B\n",
    "cumulativeDataB = cumulativeData[cumulativeData['group']=='B']\n",
    "\n",
    "# строим графики\n",
    "plt.plot(cumulativeDataA['date'], cumulativeDataA['conversion'], label='A')\n",
    "plt.plot(cumulativeDataB['date'], cumulativeDataB['conversion'], label='B')\n",
    "plt.legend()\n",
    "plt.title('График кумулятивного среднего количества заказов на посетителя по группам')\n",
    "plt.xlabel('Дата теста')\n",
    "plt.ylabel('Среднее количество заказов на посетителя')\n",
    "plt.show()\n"
   ]
  },
  {
   "cell_type": "markdown",
   "metadata": {},
   "source": [
    "Значения в группах колебаются, но затем у группы В среднее количество заказов вырвалось вперёд, а у группы А — просело по сравнению со второй группой. Но значения не стабилизировались ни у одной из групп. Скачки наблюдаются даже в конце тестируемого периода."
   ]
  },
  {
   "cell_type": "markdown",
   "metadata": {},
   "source": [
    "#### 5. График относительного изменения кумулятивного среднего количества заказов на посетителя группы B к группе A. "
   ]
  },
  {
   "cell_type": "markdown",
   "metadata": {},
   "source": [
    "Построим график изменения кумулятивного среднего количества заказов на посетителя группы B к группе A:"
   ]
  },
  {
   "cell_type": "code",
   "execution_count": 23,
   "metadata": {},
   "outputs": [
    {
     "data": {
      "image/png": "[encoded data removed]",
      "text/plain": [
       "<Figure size 864x288 with 1 Axes>"
      ]
     },
     "metadata": {
      "needs_background": "light"
     },
     "output_type": "display_data"
    }
   ],
   "source": [
    "mergedCumulativeConversions = cumulativeDataA[['date','conversion']]\\\n",
    ".merge(cumulativeDataB[['date','conversion']], left_on='date', right_on='date', how='left', suffixes=['A', 'B'])\n",
    "\n",
    "plt.plot(mergedCumulativeConversions['date'], mergedCumulativeConversions['conversionB']/\n",
    "         mergedCumulativeConversions['conversionA']-1, \n",
    "         label=\"Относительный прирост кумулятивного среднего количества заказов на посетителя группы B относительно группы A\")\n",
    "\n",
    "plt.axhline(y=0, color='black', linestyle='--')\n",
    "plt.axhline(y=-0.1, color='grey', linestyle='--')\n",
    "plt.title('График относительного изменения кумулятивного среднего количества заказов на посетителя группы B к группе A')\n",
    "plt.xlabel('Дата теста')\n",
    "plt.ylabel('Отношение количество заказов на посетителя')\n",
    "plt.show()"
   ]
  },
  {
   "cell_type": "markdown",
   "metadata": {},
   "source": [
    "В начале теста группа B значительно проигрывала группе A, затем вырвалась вперёд. Потом среднее количество заказов на посетителя для группы B немного уменьшалось, но все равно оставалось значительно выше значения для группы А.\n",
    "В целом отношение среднего количества заказов на посетителя ещё не установилось, и сейчас делать какие-либо выводы по тесту нельзя. "
   ]
  },
  {
   "cell_type": "markdown",
   "metadata": {},
   "source": [
    "#### 6.Точечный график количества заказов по пользователям."
   ]
  },
  {
   "cell_type": "code",
   "execution_count": 24,
   "metadata": {},
   "outputs": [
    {
     "data": {
      "text/html": [
       "<div>\n",
       "<style scoped>\n",
       "    .dataframe tbody tr th:only-of-type {\n",
       "        vertical-align: middle;\n",
       "    }\n",
       "\n",
       "    .dataframe tbody tr th {\n",
       "        vertical-align: top;\n",
       "    }\n",
       "\n",
       "    .dataframe thead th {\n",
       "        text-align: right;\n",
       "    }\n",
       "</style>\n",
       "<table border=\"1\" class=\"dataframe\">\n",
       "  <thead>\n",
       "    <tr style=\"text-align: right;\">\n",
       "      <th></th>\n",
       "      <th>visitorId</th>\n",
       "      <th>orders</th>\n",
       "    </tr>\n",
       "  </thead>\n",
       "  <tbody>\n",
       "    <tr>\n",
       "      <th>1023</th>\n",
       "      <td>4256040402</td>\n",
       "      <td>11</td>\n",
       "    </tr>\n",
       "    <tr>\n",
       "      <th>591</th>\n",
       "      <td>2458001652</td>\n",
       "      <td>11</td>\n",
       "    </tr>\n",
       "    <tr>\n",
       "      <th>569</th>\n",
       "      <td>2378935119</td>\n",
       "      <td>9</td>\n",
       "    </tr>\n",
       "    <tr>\n",
       "      <th>487</th>\n",
       "      <td>2038680547</td>\n",
       "      <td>8</td>\n",
       "    </tr>\n",
       "    <tr>\n",
       "      <th>44</th>\n",
       "      <td>199603092</td>\n",
       "      <td>5</td>\n",
       "    </tr>\n",
       "    <tr>\n",
       "      <th>744</th>\n",
       "      <td>3062433592</td>\n",
       "      <td>5</td>\n",
       "    </tr>\n",
       "    <tr>\n",
       "      <th>55</th>\n",
       "      <td>237748145</td>\n",
       "      <td>5</td>\n",
       "    </tr>\n",
       "    <tr>\n",
       "      <th>917</th>\n",
       "      <td>3803269165</td>\n",
       "      <td>5</td>\n",
       "    </tr>\n",
       "    <tr>\n",
       "      <th>299</th>\n",
       "      <td>1230306981</td>\n",
       "      <td>5</td>\n",
       "    </tr>\n",
       "    <tr>\n",
       "      <th>897</th>\n",
       "      <td>3717692402</td>\n",
       "      <td>5</td>\n",
       "    </tr>\n",
       "  </tbody>\n",
       "</table>\n",
       "</div>"
      ],
      "text/plain": [
       "       visitorId  orders\n",
       "1023  4256040402      11\n",
       "591   2458001652      11\n",
       "569   2378935119       9\n",
       "487   2038680547       8\n",
       "44     199603092       5\n",
       "744   3062433592       5\n",
       "55     237748145       5\n",
       "917   3803269165       5\n",
       "299   1230306981       5\n",
       "897   3717692402       5"
      ]
     },
     "metadata": {},
     "output_type": "display_data"
    }
   ],
   "source": [
    "ordersByUsers = (orders.groupby('visitorId', as_index=False).agg({'transactionId': 'nunique'}))\n",
    "\n",
    "ordersByUsers.columns = ['visitorId', 'orders']\n",
    "\n",
    "display(ordersByUsers.sort_values(by='orders', ascending=False).head(10)) "
   ]
  },
  {
   "cell_type": "markdown",
   "metadata": {},
   "source": [
    "Есть пользователи, которые совершали 5,  8 и 11 заказов. Значительно больше, чем обычный пользователь.  \n",
    "\n",
    "Построим точечную диаграмму числа заказов на одного пользователя:"
   ]
  },
  {
   "cell_type": "code",
   "execution_count": 25,
   "metadata": {},
   "outputs": [
    {
     "data": {
      "image/png": "[encoded data removed]",
      "text/plain": [
       "<Figure size 864x288 with 1 Axes>"
      ]
     },
     "metadata": {
      "needs_background": "light"
     },
     "output_type": "display_data"
    }
   ],
   "source": [
    "x_values = pd.Series(range(0,len(ordersByUsers)))\n",
    "\n",
    "plt.scatter(x_values, ordersByUsers['orders'])\n",
    "plt.title('Число заказов на одного пользователя')\n",
    "plt.show()"
   ]
  },
  {
   "cell_type": "markdown",
   "metadata": {},
   "source": [
    "Большинство покупателей заказывали только один раз. Однако доля пользователей с 2-4 заказами тоже значительна. Их точная доля не ясна — непонятно, считать их аномалиями или нет. \n",
    "Посчитаем выборочные перцентили количества заказов на одного пользователя:"
   ]
  },
  {
   "cell_type": "code",
   "execution_count": 26,
   "metadata": {},
   "outputs": [
    {
     "name": "stdout",
     "output_type": "stream",
     "text": [
      "[2. 4.]\n"
     ]
    }
   ],
   "source": [
    "print(np.percentile(ordersByUsers['orders'], [95, 99]))"
   ]
  },
  {
   "cell_type": "markdown",
   "metadata": {},
   "source": [
    "Не более 5% пользователей оформляли больше чем 2 заказf. И только 1% пользователей заказывали более 4 раз. \n",
    "Разумно выбрать 1-2 заказа на одного пользователя за верхнюю границу числа заказов, и отсеять аномальных пользователей по ней."
   ]
  },
  {
   "cell_type": "markdown",
   "metadata": {},
   "source": [
    "#### 7. Точечный график стоимостей заказов по пользователям"
   ]
  },
  {
   "cell_type": "markdown",
   "metadata": {},
   "source": [
    "Для выявления аномальных сумм заказов построим график и оценим стоимость заказов:"
   ]
  },
  {
   "cell_type": "code",
   "execution_count": 27,
   "metadata": {},
   "outputs": [
    {
     "data": {
      "image/png": "[encoded data removed]",
      "text/plain": [
       "<Figure size 864x288 with 1 Axes>"
      ]
     },
     "metadata": {
      "needs_background": "light"
     },
     "output_type": "display_data"
    }
   ],
   "source": [
    "x_values = pd.Series(range(0,len(orders['revenue'])))\n",
    "plt.scatter(x_values, orders['revenue']) \n",
    "plt.title('График  стоимости заказов по пользователям')\n",
    "plt.xlabel('Дата теста')\n",
    "plt.ylabel('Стоимость заказа')\n",
    "plt.show()"
   ]
  },
  {
   "cell_type": "markdown",
   "metadata": {},
   "source": [
    "Действительно, в данных есть заказ со стоимостью свыше 1 млн, при этом основная масса заказов кроется в границах, близких к минимуму.  \n",
    "Изменим масштаб графика, чтобы лучше отобразить стоимость заказов. Ограничим стоимость в рамках 230 тыс."
   ]
  },
  {
   "cell_type": "code",
   "execution_count": 28,
   "metadata": {},
   "outputs": [
    {
     "data": {
      "image/png": "[encoded data removed]",
      "text/plain": [
       "<Figure size 864x288 with 1 Axes>"
      ]
     },
     "metadata": {
      "needs_background": "light"
     },
     "output_type": "display_data"
    }
   ],
   "source": [
    "x_values = pd.Series(range(0,len(orders['revenue'])))\n",
    "plt.scatter(x_values, orders['revenue']) \n",
    "plt.ylim(0, 230000)\n",
    "plt.title('График  стоимостей заказов по пользователям')\n",
    "plt.xlabel('Дата теста')\n",
    "plt.ylabel('Стоимость заказа')\n",
    "plt.show()\n"
   ]
  },
  {
   "cell_type": "code",
   "execution_count": 29,
   "metadata": {},
   "outputs": [
    {
     "data": {
      "text/plain": [
       "1294500"
      ]
     },
     "metadata": {},
     "output_type": "display_data"
    },
    {
     "data": {
      "text/plain": [
       "8348.005847953216"
      ]
     },
     "metadata": {},
     "output_type": "display_data"
    }
   ],
   "source": [
    "display(orders['revenue'].max())\n",
    "display(orders['revenue'].mean())"
   ]
  },
  {
   "cell_type": "markdown",
   "metadata": {},
   "source": [
    "На графике заметно небольшое количество заказов стоимостью свыше 50 тыс. При этом средний чек находится на уровне 8,5 тыс, а медианное значение вообще чуть больше 2,5 тыс. На такое расхождение среднего и медианного значения оказывают влияние как раз аномально дорогие заказы."
   ]
  },
  {
   "cell_type": "markdown",
   "metadata": {},
   "source": [
    "По графику можно выбрать границу аномальных заказов между 20 000 и 200 000 рублей. Однако принято отсеивать от 1% до 5% наблюдений с крайними значениями.  Чтобы определить границу аномально дорогих заказов, посчитаем перцентили. Определим 95 и 99 перцентили среднего чека в выборке:"
   ]
  },
  {
   "cell_type": "code",
   "execution_count": 30,
   "metadata": {},
   "outputs": [
    {
     "data": {
      "text/plain": [
       "array([28000. , 58233.2])"
      ]
     },
     "metadata": {},
     "output_type": "display_data"
    }
   ],
   "source": [
    "display(np.percentile(orders['revenue'], [95, 99]))"
   ]
  },
  {
   "cell_type": "markdown",
   "metadata": {},
   "source": [
    "Не более 5% заказов имеют стоимость от 28 000 и выше. Следовательно, можно отбросить данные о более дорогих заказах и работать с очищенным набором для более корректного анализа."
   ]
  },
  {
   "cell_type": "markdown",
   "metadata": {},
   "source": [
    "#### 8. Статистическая значимость различий в среднем количестве заказов на посетителя между группами по «сырым» данным."
   ]
  },
  {
   "cell_type": "markdown",
   "metadata": {},
   "source": [
    "Сформулируем гипотезы:\n",
    "\n",
    "H₀ - различий в конверсии между группами нет,  \n",
    "H₁ - различия в конверсии между группами есть.  \n",
    "Для расчета статистической значимости различий в конверсии между группами нам необходимо подготовить имеющиеся данные.  \n",
    "Сформируем новый датафрейм data со следующими столбцами:\n",
    "\n",
    "* date - дата;\n",
    "* orders_per_date_a - количество заказов в выбранную дату в группе A;\n",
    "* revenue_per_date_a - суммарная выручка в выбранную дату в группе A;\n",
    "* orders_per_date_b - количество заказов в выбранную дату в группе B;\n",
    "* revenue_per_date_b - суммарная выручка в выбранную дату в группе B;\n",
    "* orders_cummulative_a - суммарное число заказов до выбранной даты включительно в группе A;\n",
    "* revenue_cummulative_a - суммарная выручка до выбранной даты включительно в группе A;\n",
    "* orders_cummulative_b - суммарное число заказов до выбранной даты включительно в группе B;\n",
    "* revenue_cummulative_b - суммарная выручка до выбранной даты включительно в группе B;\n",
    "* visitors_per_date_a - количество пользователей в выбранную дату в группе A;\n",
    "* visitors_cummulative_a - количество пользователей до выбранной даты включительно в группе A;\n",
    "* visitors_per_date_b - количество пользователей в выбранную дату в группе B;\n",
    "* visitors_cummulative_b - количество пользователей до выбранной даты включительно в группе B."
   ]
  },
  {
   "cell_type": "code",
   "execution_count": 31,
   "metadata": {},
   "outputs": [
    {
     "data": {
      "text/html": [
       "<div>\n",
       "<style scoped>\n",
       "    .dataframe tbody tr th:only-of-type {\n",
       "        vertical-align: middle;\n",
       "    }\n",
       "\n",
       "    .dataframe tbody tr th {\n",
       "        vertical-align: top;\n",
       "    }\n",
       "\n",
       "    .dataframe thead th {\n",
       "        text-align: right;\n",
       "    }\n",
       "</style>\n",
       "<table border=\"1\" class=\"dataframe\">\n",
       "  <thead>\n",
       "    <tr style=\"text-align: right;\">\n",
       "      <th></th>\n",
       "      <th>date</th>\n",
       "      <th>ordersPerDateA</th>\n",
       "      <th>revenuePerDateA</th>\n",
       "      <th>ordersPerDateB</th>\n",
       "      <th>revenuePerDateB</th>\n",
       "      <th>ordersCummulativeA</th>\n",
       "      <th>revenueCummulativeA</th>\n",
       "      <th>ordersCummulativeB</th>\n",
       "      <th>revenueCummulativeB</th>\n",
       "      <th>visitorsPerDateA</th>\n",
       "      <th>visitorsPerDateB</th>\n",
       "      <th>visitorsCummulativeA</th>\n",
       "      <th>visitorsCummulativeB</th>\n",
       "    </tr>\n",
       "  </thead>\n",
       "  <tbody>\n",
       "    <tr>\n",
       "      <th>0</th>\n",
       "      <td>2019-08-01</td>\n",
       "      <td>24</td>\n",
       "      <td>148579</td>\n",
       "      <td>21</td>\n",
       "      <td>101217</td>\n",
       "      <td>24</td>\n",
       "      <td>148579</td>\n",
       "      <td>21</td>\n",
       "      <td>101217</td>\n",
       "      <td>719</td>\n",
       "      <td>713</td>\n",
       "      <td>719</td>\n",
       "      <td>713</td>\n",
       "    </tr>\n",
       "    <tr>\n",
       "      <th>1</th>\n",
       "      <td>2019-08-02</td>\n",
       "      <td>20</td>\n",
       "      <td>93822</td>\n",
       "      <td>24</td>\n",
       "      <td>165531</td>\n",
       "      <td>44</td>\n",
       "      <td>242401</td>\n",
       "      <td>45</td>\n",
       "      <td>266748</td>\n",
       "      <td>619</td>\n",
       "      <td>581</td>\n",
       "      <td>1338</td>\n",
       "      <td>1294</td>\n",
       "    </tr>\n",
       "    <tr>\n",
       "      <th>2</th>\n",
       "      <td>2019-08-03</td>\n",
       "      <td>24</td>\n",
       "      <td>112473</td>\n",
       "      <td>16</td>\n",
       "      <td>114248</td>\n",
       "      <td>68</td>\n",
       "      <td>354874</td>\n",
       "      <td>61</td>\n",
       "      <td>380996</td>\n",
       "      <td>507</td>\n",
       "      <td>509</td>\n",
       "      <td>1845</td>\n",
       "      <td>1803</td>\n",
       "    </tr>\n",
       "    <tr>\n",
       "      <th>3</th>\n",
       "      <td>2019-08-04</td>\n",
       "      <td>16</td>\n",
       "      <td>70825</td>\n",
       "      <td>17</td>\n",
       "      <td>108571</td>\n",
       "      <td>84</td>\n",
       "      <td>425699</td>\n",
       "      <td>78</td>\n",
       "      <td>489567</td>\n",
       "      <td>717</td>\n",
       "      <td>770</td>\n",
       "      <td>2562</td>\n",
       "      <td>2573</td>\n",
       "    </tr>\n",
       "    <tr>\n",
       "      <th>4</th>\n",
       "      <td>2019-08-05</td>\n",
       "      <td>25</td>\n",
       "      <td>124218</td>\n",
       "      <td>23</td>\n",
       "      <td>92428</td>\n",
       "      <td>109</td>\n",
       "      <td>549917</td>\n",
       "      <td>101</td>\n",
       "      <td>581995</td>\n",
       "      <td>756</td>\n",
       "      <td>707</td>\n",
       "      <td>3318</td>\n",
       "      <td>3280</td>\n",
       "    </tr>\n",
       "  </tbody>\n",
       "</table>\n",
       "</div>"
      ],
      "text/plain": [
       "        date  ordersPerDateA  revenuePerDateA  ordersPerDateB  \\\n",
       "0 2019-08-01              24           148579              21   \n",
       "1 2019-08-02              20            93822              24   \n",
       "2 2019-08-03              24           112473              16   \n",
       "3 2019-08-04              16            70825              17   \n",
       "4 2019-08-05              25           124218              23   \n",
       "\n",
       "   revenuePerDateB  ordersCummulativeA  revenueCummulativeA  \\\n",
       "0           101217                  24               148579   \n",
       "1           165531                  44               242401   \n",
       "2           114248                  68               354874   \n",
       "3           108571                  84               425699   \n",
       "4            92428                 109               549917   \n",
       "\n",
       "   ordersCummulativeB  revenueCummulativeB  visitorsPerDateA  \\\n",
       "0                  21               101217               719   \n",
       "1                  45               266748               619   \n",
       "2                  61               380996               507   \n",
       "3                  78               489567               717   \n",
       "4                 101               581995               756   \n",
       "\n",
       "   visitorsPerDateB  visitorsCummulativeA  visitorsCummulativeB  \n",
       "0               713                   719                   713  \n",
       "1               581                  1338                  1294  \n",
       "2               509                  1845                  1803  \n",
       "3               770                  2562                  2573  \n",
       "4               707                  3318                  3280  "
      ]
     },
     "metadata": {},
     "output_type": "display_data"
    }
   ],
   "source": [
    "visitorsADaily = visitors[visitors['group'] == 'A'][['date', 'visitors']]\n",
    "visitorsADaily.columns = ['date', 'visitorsPerDateA']\n",
    "\n",
    "visitorsACummulative = visitorsADaily.apply(\n",
    "    lambda x: visitorsADaily[visitorsADaily['date'] <= x['date']].agg(\n",
    "        {'date': 'max', 'visitorsPerDateA': 'sum'}\n",
    "    ),\n",
    "    axis=1,\n",
    ")\n",
    "visitorsACummulative.columns = ['date', 'visitorsCummulativeA']\n",
    "\n",
    "visitorsBDaily = visitors[visitors['group'] == 'B'][['date', 'visitors']]\n",
    "visitorsBDaily.columns = ['date', 'visitorsPerDateB']\n",
    "\n",
    "visitorsBCummulative = visitorsBDaily.apply(\n",
    "    lambda x: visitorsBDaily[visitorsBDaily['date'] <= x['date']].agg(\n",
    "        {'date': 'max', 'visitorsPerDateB': 'sum'}\n",
    "    ),\n",
    "    axis=1,\n",
    ")\n",
    "visitorsBCummulative.columns = ['date', 'visitorsCummulativeB']\n",
    "\n",
    "ordersADaily = (\n",
    "    orders[orders['group'] == 'A'][['date', 'transactionId', 'visitorId', 'revenue']]\n",
    "    .groupby('date', as_index=False)\n",
    "    .agg({'transactionId': pd.Series.nunique, 'revenue': 'sum'})\n",
    ")\n",
    "ordersADaily.columns = ['date', 'ordersPerDateA', 'revenuePerDateA']\n",
    "\n",
    "ordersACummulative = ordersADaily.apply(\n",
    "    lambda x: ordersADaily[ordersADaily['date'] <= x['date']].agg(\n",
    "        {'date': 'max', 'ordersPerDateA': 'sum', 'revenuePerDateA': 'sum'}\n",
    "    ),\n",
    "    axis=1,\n",
    ").sort_values(by=['date'])\n",
    "ordersACummulative.columns = [\n",
    "    'date',\n",
    "    'ordersCummulativeA',\n",
    "    'revenueCummulativeA',\n",
    "]\n",
    "\n",
    "ordersBDaily = (\n",
    "    orders[orders['group'] == 'B'][['date', 'transactionId', 'visitorId', 'revenue']]\n",
    "    .groupby('date', as_index=False)\n",
    "    .agg({'transactionId': pd.Series.nunique, 'revenue': 'sum'})\n",
    ")\n",
    "ordersBDaily.columns = ['date', 'ordersPerDateB', 'revenuePerDateB']\n",
    "\n",
    "ordersBCummulative = ordersBDaily.apply(\n",
    "    lambda x: ordersBDaily[ordersBDaily['date'] <= x['date']].agg(\n",
    "        {'date': 'max', 'ordersPerDateB': 'sum', 'revenuePerDateB': 'sum'}\n",
    "    ),\n",
    "    axis=1,\n",
    ").sort_values(by=['date'])\n",
    "ordersBCummulative.columns = [\n",
    "    'date',\n",
    "    'ordersCummulativeB',\n",
    "    'revenueCummulativeB',\n",
    "]\n",
    "\n",
    "data = (\n",
    "    ordersADaily.merge(\n",
    "        ordersBDaily, left_on='date', right_on='date', how='left'\n",
    "    )\n",
    "    .merge(ordersACummulative, left_on='date', right_on='date', how='left')\n",
    "    .merge(ordersBCummulative, left_on='date', right_on='date', how='left')\n",
    "    .merge(visitorsADaily, left_on='date', right_on='date', how='left')\n",
    "    .merge(visitorsBDaily, left_on='date', right_on='date', how='left')\n",
    "    .merge(visitorsACummulative, left_on='date', right_on='date', how='left')\n",
    "    .merge(visitorsBCummulative, left_on='date', right_on='date', how='left')\n",
    ")\n",
    "\n",
    "display(data.head())"
   ]
  },
  {
   "cell_type": "markdown",
   "metadata": {},
   "source": [
    "Посчитаем статистическую значимость различия в среднем количестве заказов между группами.\n",
    "Создадим переменные ordersByUsersA и ordersByUsersB. В них для пользователей, которые заказывали хотя бы 1 раз, укажем число совершённых заказов. "
   ]
  },
  {
   "cell_type": "markdown",
   "metadata": {},
   "source": [
    "Объявим переменные sampleA и sampleB, в которых пользователям из разных групп будет соответствовать количество заказов. Тем, кто ничего не заказал, будут соответствовать нули. Это нужно, чтобы подготовить выборки к проверке критерием Манна-Уитни."
   ]
  },
  {
   "cell_type": "code",
   "execution_count": 32,
   "metadata": {},
   "outputs": [
    {
     "name": "stdout",
     "output_type": "stream",
     "text": [
      "p-value = 0.01679\n",
      "Относительное различие в средней конверсии между группами по «сырым» данным: 0.138\n"
     ]
    }
   ],
   "source": [
    "ordersByUsersA = (\n",
    "    orders[orders['group'] == 'A']\n",
    "    .groupby('visitorId', as_index=False)\n",
    "    .agg({'transactionId': pd.Series.nunique})\n",
    ")\n",
    "ordersByUsersA.columns = ['visitorId', 'orders']\n",
    "\n",
    "ordersByUsersB = (\n",
    "    orders[orders['group'] == 'B']\n",
    "    .groupby('visitorId', as_index=False)\n",
    "    .agg({'transactionId': pd.Series.nunique})\n",
    ")\n",
    "ordersByUsersB.columns = ['visitorId', 'orders']\n",
    "\n",
    "sampleA = pd.concat([ordersByUsersA['orders'],pd.Series(0, index=np.arange(data['visitorsPerDateA'].sum() - len(ordersByUsersA['orders'])), name='orders')],axis=0)\n",
    "\n",
    "sampleB = pd.concat([ordersByUsersB['orders'],pd.Series(0, index=np.arange(data['visitorsPerDateB'].sum() - len(ordersByUsersB['orders'])), name='orders')],axis=0)\n",
    "\n",
    "ordersByUsersA = (\n",
    "    orders[orders['group'] == 'A']\n",
    "    .groupby('visitorId', as_index=False)\n",
    "    .agg({'transactionId': pd.Series.nunique})\n",
    ")\n",
    "ordersByUsersA.columns = ['visitorId', 'orders']\n",
    "\n",
    "ordersByUsersB = (\n",
    "    orders[orders['group'] == 'B']\n",
    "    .groupby('visitorId', as_index=False)\n",
    "    .agg({'transactionId': pd.Series.nunique})\n",
    ")\n",
    "ordersByUsersB.columns = ['visitorId', 'orders']\n",
    "\n",
    "sampleA = pd.concat(\n",
    "    [\n",
    "        ordersByUsersA['orders'],\n",
    "        pd.Series(\n",
    "            0,\n",
    "            index=np.arange(\n",
    "                data['visitorsPerDateA'].sum() - len(ordersByUsersA['orders'])\n",
    "            ),\n",
    "            name='orders',\n",
    "        ),\n",
    "    ],\n",
    "    axis=0,\n",
    ")\n",
    "\n",
    "sampleB = pd.concat(\n",
    "    [\n",
    "        ordersByUsersB['orders'],\n",
    "        pd.Series(\n",
    "            0,\n",
    "            index=np.arange(\n",
    "                data['visitorsPerDateB'].sum() - len(ordersByUsersB['orders'])\n",
    "            ),\n",
    "            name='orders',\n",
    "        ),\n",
    "    ],\n",
    "    axis=0,\n",
    ")\n",
    "\n",
    "print('p-value =', \"{0:.5f}\".format(st.mannwhitneyu(sampleA, sampleB)[1]))\n",
    "\n",
    "print('Относительное различие в средней конверсии между группами по «сырым» данным:',\n",
    "      \"{0:.3f}\".format(sampleB.mean() / sampleA.mean() - 1))"
   ]
  },
  {
   "cell_type": "markdown",
   "metadata": {},
   "source": [
    "p-value = 0.01679, что меньше 0.05. Значит нулевую гипотезу об отсутствии различий по «сырым» данным в конверсии между группами можно отвергнуть. Средняя конверсия группы В больше средней конверсии группы А."
   ]
  },
  {
   "cell_type": "markdown",
   "metadata": {},
   "source": [
    "#### 9. Статистическая значимость различий в среднем чеке заказа между группами по «сырым» данным. "
   ]
  },
  {
   "cell_type": "markdown",
   "metadata": {},
   "source": [
    "Сформулируем гипотезы:  \n",
    "\n",
    "H₀ - различий в среднем чеке между группами нет;  \n",
    "H₁ - различия в среднем чеке между группами есть."
   ]
  },
  {
   "cell_type": "code",
   "execution_count": 33,
   "metadata": {},
   "outputs": [
    {
     "name": "stdout",
     "output_type": "stream",
     "text": [
      "p-value = 0.729\n",
      "Относительное различие в среднем чеке между группами по «сырым» данным: 0.259\n"
     ]
    }
   ],
   "source": [
    "print('p-value =', '{0:.3f}'.format(st.mannwhitneyu(\n",
    "    orders[orders['group']=='A']['revenue'],\n",
    "    orders[orders['group']=='B']['revenue'])[1]))\n",
    "\n",
    "# рассчет относительного различия в среднем чеке между группами\n",
    "print('Относительное различие в среднем чеке между группами по «сырым» данным:',\n",
    "      '{0:.3f}'.format(\n",
    "          orders[orders['group']=='B']['revenue'].mean()/\n",
    "          orders[orders['group']=='A']['revenue'].mean()-1)) "
   ]
  },
  {
   "cell_type": "markdown",
   "metadata": {},
   "source": [
    "p-value = 0.729, что больше 0,05. Нулевую гипотезу об отсутсвии различий в среднем чеке между группами отвергать нельзя. Различия есть, и они ощутимые. Средний чек группы В значительно больше среднего чека группы А."
   ]
  },
  {
   "cell_type": "markdown",
   "metadata": {},
   "source": [
    " #### 10. Статистическая значимость различий в среднем количестве заказов на посетителя между группами по «очищенным» данным. "
   ]
  },
  {
   "cell_type": "markdown",
   "metadata": {},
   "source": [
    " 95-й и 99-й перцентили средних чеков равны 28 000 и 58 233.2 рубля. А 95-й и 99-й перцентили количества заказов на одного пользователя равны 2 и 4 заказа на пользователя.  \n",
    " Примем за аномальных пользователей тех, кто совершил от 3 заказов или совершил заказ дороже 28 000 рублей. Так мы уберём от 1% до 5% пользователей с наибольшим числом заказов и 5% пользователей с дорогими заказами. Сделаем срезы пользователей с числом заказов больше 2 — usersWithManyOrders и пользователей, совершивших заказы дороже 28 000 — usersWithExpensiveOrders. Объединим их в таблице abnormalUsers. \n",
    "Узнаем, сколько всего аномальных пользователей атрибутом shape."
   ]
  },
  {
   "cell_type": "code",
   "execution_count": 34,
   "metadata": {},
   "outputs": [
    {
     "data": {
      "text/plain": [
       "1099    148427295\n",
       "18      199603092\n",
       "928     204675465\n",
       "23      237748145\n",
       "37      249864742\n",
       "Name: visitorId, dtype: int64"
      ]
     },
     "metadata": {},
     "output_type": "display_data"
    },
    {
     "data": {
      "text/plain": [
       "74"
      ]
     },
     "metadata": {},
     "output_type": "display_data"
    }
   ],
   "source": [
    "usersWithManyOrders = pd.concat(\n",
    "    [\n",
    "        ordersByUsersA[ordersByUsersA['orders'] > 2]['visitorId'],\n",
    "        ordersByUsersB[ordersByUsersB['orders'] > 2]['visitorId'],\n",
    "    ],\n",
    "    axis=0,\n",
    ")\n",
    "usersWithExpensiveOrders = orders[orders['revenue'] > 28000]['visitorId']\n",
    "abnormalUsers = (\n",
    "    pd.concat([usersWithManyOrders, usersWithExpensiveOrders], axis=0)\n",
    "    .drop_duplicates()\n",
    "    .sort_values()\n",
    ")\n",
    "display(abnormalUsers.head(5))\n",
    "display(abnormalUsers.shape[0])"
   ]
  },
  {
   "cell_type": "markdown",
   "metadata": {},
   "source": [
    "Всего 74 аномальных пользователя.   \n",
    "Посчитаем статистическую значимость различий в среднем количестве заказов между группами теста по очищенным данным. "
   ]
  },
  {
   "cell_type": "code",
   "execution_count": 35,
   "metadata": {},
   "outputs": [],
   "source": [
    "sampleAFiltered = pd.concat(\n",
    "    [\n",
    "        ordersByUsersA[\n",
    "            np.logical_not(ordersByUsersA['visitorId'].isin(abnormalUsers))\n",
    "        ]['orders'],\n",
    "        pd.Series(\n",
    "            0,\n",
    "            index=np.arange(\n",
    "                data['visitorsPerDateA'].sum() - len(ordersByUsersA['orders'])\n",
    "            ),\n",
    "            name='orders',\n",
    "        ),\n",
    "    ],\n",
    "    axis=0,\n",
    ")\n",
    "\n",
    "sampleBFiltered = pd.concat(\n",
    "    [\n",
    "        ordersByUsersB[\n",
    "            np.logical_not(ordersByUsersB['visitorId'].isin(abnormalUsers))\n",
    "        ]['orders'],\n",
    "        pd.Series(\n",
    "            0,\n",
    "            index=np.arange(\n",
    "                data['visitorsPerDateB'].sum() - len(ordersByUsersB['orders'])\n",
    "            ),\n",
    "            name='orders',\n",
    "        ),\n",
    "    ],\n",
    "    axis=0,\n",
    ")"
   ]
  },
  {
   "cell_type": "markdown",
   "metadata": {},
   "source": [
    "Гипотезы:  \n",
    "\n",
    "H₀ - различий в конверсии между группами нет;  \n",
    "H₁ - различия в конверсии между группами есть."
   ]
  },
  {
   "cell_type": "code",
   "execution_count": 36,
   "metadata": {},
   "outputs": [
    {
     "name": "stdout",
     "output_type": "stream",
     "text": [
      "p-value = 0.013\n",
      "Относительное различие в средней конверсии между группами по «очищенным» данным: 0.173\n"
     ]
    }
   ],
   "source": [
    "print('p-value =', '{0:.3f}'.format(st.mannwhitneyu(sampleAFiltered, sampleBFiltered)[1]))\n",
    "print('Относительное различие в средней конверсии между группами по «очищенным» данным:', \n",
    "      '{0:.3f}'.format(sampleBFiltered.mean()/sampleAFiltered.mean()-1))"
   ]
  },
  {
   "cell_type": "markdown",
   "metadata": {},
   "source": [
    "p-value = 0.013, что меньше 0.05. Это означает, что нулевую гипотезу об отсутствии различий по «очищенным» данным в конверсии между группами можно отвергнуть. По «сырым» данным p-value был равен 0.0167. Средняя конверсия группы В больше средней конверсии группы А. Относительное различие в конверсии между группами по «сырым» данным было равно 0.138. Результаты по «очищенным» данным незначительно отличаются от результатов по «сырым» данным."
   ]
  },
  {
   "cell_type": "markdown",
   "metadata": {},
   "source": [
    "#### 11. Статистическая значимость различий в среднем чеке заказа между группами по «очищенным» данным. "
   ]
  },
  {
   "cell_type": "markdown",
   "metadata": {},
   "source": [
    "Сформулируем гипотезы:  \n",
    "\n",
    "H₀ - различий в среднем чеке между группами нет;  \n",
    "H₁ - различия в среднем чеке между группами есть."
   ]
  },
  {
   "cell_type": "code",
   "execution_count": 37,
   "metadata": {},
   "outputs": [
    {
     "name": "stdout",
     "output_type": "stream",
     "text": [
      "p-value = 0.738\n",
      "Относительное различие в среднем чеке между группами по «очищенным» данным: -0.020\n"
     ]
    }
   ],
   "source": [
    "print('p-value =', \n",
    "    '{0:.3f}'.format(\n",
    "        st.mannwhitneyu(\n",
    "            orders[\n",
    "                np.logical_and(\n",
    "                    orders['group'] == 'A',\n",
    "                    np.logical_not(orders['visitorId'].isin(abnormalUsers)),\n",
    "                )\n",
    "            ]['revenue'],\n",
    "            orders[\n",
    "                np.logical_and(\n",
    "                    orders['group'] == 'B',\n",
    "                    np.logical_not(orders['visitorId'].isin(abnormalUsers)),\n",
    "                )\n",
    "            ]['revenue'],\n",
    "        )[1]\n",
    "    )\n",
    ")\n",
    "\n",
    "print('Относительное различие в среднем чеке между группами по «очищенным» данным:', \n",
    "    \"{0:.3f}\".format(\n",
    "        orders[\n",
    "            np.logical_and(\n",
    "                orders['group'] == 'B',\n",
    "                np.logical_not(orders['visitorId'].isin(abnormalUsers)),\n",
    "            )\n",
    "        ]['revenue'].mean()\n",
    "        / orders[\n",
    "            np.logical_and(\n",
    "                orders['group'] == 'A',\n",
    "                np.logical_not(orders['visitorId'].isin(abnormalUsers)),\n",
    "            )\n",
    "        ]['revenue'].mean()\n",
    "        - 1\n",
    "    )\n",
    ")"
   ]
  },
  {
   "cell_type": "markdown",
   "metadata": {},
   "source": [
    "Причин отвергать нулевую гипотезу и считать, что в среднем чеке по «очищенным» данным есть различия, нет. По «сырым» данным p-value был равен 0.729. Однако, по «очищенным» данным средний чек группы А больше среднего чека группы В. По «сырым» данным было наоборот, относительное различие в среднем чеке между группами составляло 0.259.P-value увеличился, но и разница между сегментами сократилась с 25% до -2%."
   ]
  },
  {
   "cell_type": "markdown",
   "metadata": {},
   "source": [
    "### Вывод:"
   ]
  },
  {
   "cell_type": "markdown",
   "metadata": {},
   "source": [
    "*Задачей исследования было:*\n",
    "\n",
    "1. приоритизировать гипотезы,\n",
    "2. запустить A/B-тест,\n",
    "3. проанализировать результаты.  \n",
    "\n",
    "*Для корретного анализа была вополнена предобработка данных:*  \n",
    "\n",
    "* Замена названия столбцов, приведение их к нижнему регистру и правильному стилю;  \n",
    "* Приведение к правильному типу данных в столбцах, содержащих информацию о дате и времени.\n",
    "\n",
    "*В ходе приоритизации гипотез по фреймворкам ICE и RICE удалось определить наиболее важные из них:*\n",
    "\n",
    "1. 7  Добавить форму подписки на все основные страни...  112.0\n",
    "2. 2  Добавить блоки рекомендаций товаров на сайт ин...   56.0\n",
    "3. 0  Добавить два новых канала привлечения трафика,...   40.0\n",
    "4. 6  Показать на главной странице баннеры с актуаль...   40.0\n",
    "\n",
    "*Основные положения анализа результатов A/B-теста:*\n",
    "  \n",
    "Кумулятивный средний чек группы В выше среднего чека группы А на 25.9% к концу теста;  \n",
    "Кумулятивная конверсия группы В выше конверсии группы А на 13.8% к концу теста;  \n",
    "Не более 5% от всех пользователей оформляли больше чем 2 заказа, 1% пользователей оформляли заказ более 4 раз;  \n",
    "Не более 5% от всех заказов имеют стоимость больше чем 28 000 рублей, 1% заказов - более 58 233 рублей;  \n",
    "\n",
    "Статистически значимое различие по конверсии между группами присутствует как по «сырым» данным, так и по данным после фильтрации аномалий. Относительное различие в средней конверсии между группами (отношение средней конверсии группы В к средней конверсии группы А): 0.138 по «сырым» данным и 0.173 по «очищенным» данным;  \n",
    "\n",
    "Нет статистически значимого различия по среднему чеку между группами ни по «сырым», ни по данным после фильтрации.  \n",
    "Относительное различие в среднем чеке между группами (отношение среднего чека группы В к среднему чеку группы А): 0.259 по «сырым» данным и -0.020 по «очищенным» данным;  \n",
    "\n",
    "График различия конверсии между группами сообщает, что результаты группы B лучше группы A и есть тенденция к росту.  \n",
    "\n",
    "График различия среднего чека говорит о том, что результаты группы B, несмотря на попытки роста, имеют некоторую тенденцию к снижению, сказалось, в том числе, влияние крупных заказов. По «очищенным» данным средний чек группы А оказался больше среднего чека группы В.  \n",
    "\n",
    "Исходя из обнаруженных фактов, тест следует продолжить. Конверсия сегмента B лучше сегмента A, однако, есть основания полагать, что пристутствует тенденция к снижению среднего чека сегмента В. Показатели еще не устоялись и сильно колебаются. Необходимо некоторое время понаблюдать за этими показателями."
   ]
  },
  {
   "cell_type": "code",
   "execution_count": null,
   "metadata": {},
   "outputs": [],
   "source": []
  }
 ],
 "metadata": {
  "ExecuteTimeLog": [
   {
    "duration": 60,
    "start_time": "2024-06-03T15:59:24.972Z"
   },
   {
    "duration": 3,
    "start_time": "2024-06-03T15:59:34.070Z"
   },
   {
    "duration": 42,
    "start_time": "2024-06-03T16:02:51.962Z"
   },
   {
    "duration": 5,
    "start_time": "2024-06-03T16:03:25.143Z"
   },
   {
    "duration": 5,
    "start_time": "2024-06-03T16:06:43.018Z"
   },
   {
    "duration": 3,
    "start_time": "2024-06-03T16:07:07.152Z"
   },
   {
    "duration": 7,
    "start_time": "2024-06-03T16:07:08.001Z"
   },
   {
    "duration": 3,
    "start_time": "2024-06-03T16:09:09.890Z"
   },
   {
    "duration": 7,
    "start_time": "2024-06-03T16:09:10.564Z"
   },
   {
    "duration": 7,
    "start_time": "2024-06-03T16:24:09.122Z"
   },
   {
    "duration": 3,
    "start_time": "2024-06-03T16:24:45.294Z"
   },
   {
    "duration": 6,
    "start_time": "2024-06-03T16:24:45.998Z"
   },
   {
    "duration": 6,
    "start_time": "2024-06-03T16:24:58.379Z"
   },
   {
    "duration": 7,
    "start_time": "2024-06-03T16:25:12.421Z"
   },
   {
    "duration": 6,
    "start_time": "2024-06-03T16:26:54.724Z"
   },
   {
    "duration": 7,
    "start_time": "2024-06-03T16:27:52.755Z"
   },
   {
    "duration": 1288,
    "start_time": "2024-06-03T16:28:58.347Z"
   },
   {
    "duration": 1077,
    "start_time": "2024-06-03T16:28:59.637Z"
   },
   {
    "duration": 3,
    "start_time": "2024-06-03T16:30:21.528Z"
   },
   {
    "duration": 3,
    "start_time": "2024-06-03T16:31:01.635Z"
   },
   {
    "duration": 625,
    "start_time": "2024-06-03T16:31:02.227Z"
   },
   {
    "duration": 594,
    "start_time": "2024-06-03T16:31:40.700Z"
   },
   {
    "duration": 4,
    "start_time": "2024-06-03T16:32:21.055Z"
   },
   {
    "duration": 736,
    "start_time": "2024-06-03T16:32:21.785Z"
   },
   {
    "duration": 903,
    "start_time": "2024-06-03T16:38:58.047Z"
   },
   {
    "duration": 3,
    "start_time": "2024-06-03T16:39:21.383Z"
   },
   {
    "duration": 576,
    "start_time": "2024-06-03T16:39:22.216Z"
   },
   {
    "duration": 1559,
    "start_time": "2024-06-03T17:25:52.169Z"
   },
   {
    "duration": 275,
    "start_time": "2024-06-03T17:27:34.380Z"
   },
   {
    "duration": 269,
    "start_time": "2024-06-03T17:28:01.814Z"
   },
   {
    "duration": 753,
    "start_time": "2024-06-03T17:29:19.062Z"
   },
   {
    "duration": 1163,
    "start_time": "2024-06-03T17:48:59.513Z"
   },
   {
    "duration": 1274,
    "start_time": "2024-06-03T17:50:09.790Z"
   },
   {
    "duration": 11,
    "start_time": "2024-06-03T17:53:39.159Z"
   },
   {
    "duration": 15,
    "start_time": "2024-06-03T17:54:28.553Z"
   },
   {
    "duration": 7,
    "start_time": "2024-06-03T17:57:45.115Z"
   },
   {
    "duration": 19,
    "start_time": "2024-06-03T17:57:57.937Z"
   },
   {
    "duration": 8,
    "start_time": "2024-06-03T17:59:45.678Z"
   },
   {
    "duration": 6,
    "start_time": "2024-06-03T18:00:54.610Z"
   },
   {
    "duration": 1062,
    "start_time": "2024-06-03T18:09:43.175Z"
   },
   {
    "duration": 3,
    "start_time": "2024-06-03T18:11:10.952Z"
   },
   {
    "duration": 10,
    "start_time": "2024-06-03T18:11:17.467Z"
   },
   {
    "duration": 8,
    "start_time": "2024-06-03T18:11:28.871Z"
   },
   {
    "duration": 8,
    "start_time": "2024-06-03T18:18:32.129Z"
   },
   {
    "duration": 3,
    "start_time": "2024-06-03T18:24:26.774Z"
   },
   {
    "duration": 1065,
    "start_time": "2024-06-03T18:24:27.060Z"
   },
   {
    "duration": 1549,
    "start_time": "2024-06-03T18:24:45.335Z"
   },
   {
    "duration": 957,
    "start_time": "2024-06-03T18:24:56.786Z"
   },
   {
    "duration": 12,
    "start_time": "2024-06-03T18:25:05.652Z"
   },
   {
    "duration": 3,
    "start_time": "2024-06-03T18:25:06.909Z"
   },
   {
    "duration": 18,
    "start_time": "2024-06-03T18:25:07.477Z"
   },
   {
    "duration": 5,
    "start_time": "2024-06-03T18:25:08.053Z"
   },
   {
    "duration": 16,
    "start_time": "2024-06-03T18:25:08.874Z"
   },
   {
    "duration": 7,
    "start_time": "2024-06-03T18:25:11.003Z"
   },
   {
    "duration": 7,
    "start_time": "2024-06-03T18:25:12.166Z"
   },
   {
    "duration": 7,
    "start_time": "2024-06-03T18:25:17.272Z"
   },
   {
    "duration": 9,
    "start_time": "2024-06-03T18:26:06.589Z"
   },
   {
    "duration": 50,
    "start_time": "2024-06-04T14:06:56.082Z"
   },
   {
    "duration": 1469,
    "start_time": "2024-06-04T14:07:31.222Z"
   },
   {
    "duration": 4,
    "start_time": "2024-06-04T14:07:32.693Z"
   },
   {
    "duration": 1073,
    "start_time": "2024-06-04T14:07:32.699Z"
   },
   {
    "duration": 1308,
    "start_time": "2024-06-04T14:07:33.776Z"
   },
   {
    "duration": 1430,
    "start_time": "2024-06-04T14:07:35.085Z"
   },
   {
    "duration": 13,
    "start_time": "2024-06-04T14:07:36.517Z"
   },
   {
    "duration": 16,
    "start_time": "2024-06-04T14:07:36.532Z"
   },
   {
    "duration": 24,
    "start_time": "2024-06-04T14:07:36.550Z"
   },
   {
    "duration": 78,
    "start_time": "2024-06-04T14:07:36.576Z"
   },
   {
    "duration": 31,
    "start_time": "2024-06-04T14:07:36.657Z"
   },
   {
    "duration": 18,
    "start_time": "2024-06-04T14:07:36.690Z"
   },
   {
    "duration": 11,
    "start_time": "2024-06-04T14:07:36.710Z"
   },
   {
    "duration": 60,
    "start_time": "2024-06-04T14:07:36.723Z"
   },
   {
    "duration": 23,
    "start_time": "2024-06-04T14:07:36.784Z"
   },
   {
    "duration": 47,
    "start_time": "2024-06-04T14:07:36.809Z"
   },
   {
    "duration": 120,
    "start_time": "2024-06-04T14:08:09.682Z"
   },
   {
    "duration": 27,
    "start_time": "2024-06-04T14:08:46.648Z"
   },
   {
    "duration": 26,
    "start_time": "2024-06-04T14:09:15.907Z"
   },
   {
    "duration": 178,
    "start_time": "2024-06-04T14:11:33.510Z"
   },
   {
    "duration": 172,
    "start_time": "2024-06-04T14:11:59.578Z"
   },
   {
    "duration": 138,
    "start_time": "2024-06-04T14:13:36.856Z"
   },
   {
    "duration": 13,
    "start_time": "2024-06-04T14:15:28.529Z"
   },
   {
    "duration": 274,
    "start_time": "2024-06-04T14:16:08.242Z"
   },
   {
    "duration": 178,
    "start_time": "2024-06-04T14:18:21.533Z"
   },
   {
    "duration": 182,
    "start_time": "2024-06-04T14:19:06.751Z"
   },
   {
    "duration": 203,
    "start_time": "2024-06-04T14:19:22.438Z"
   },
   {
    "duration": 188,
    "start_time": "2024-06-04T14:19:46.867Z"
   },
   {
    "duration": 182,
    "start_time": "2024-06-04T14:21:38.132Z"
   },
   {
    "duration": 14,
    "start_time": "2024-06-04T14:36:11.597Z"
   },
   {
    "duration": 13,
    "start_time": "2024-06-04T14:36:51.838Z"
   },
   {
    "duration": 5,
    "start_time": "2024-06-04T14:37:43.615Z"
   },
   {
    "duration": 5,
    "start_time": "2024-06-04T14:37:51.888Z"
   },
   {
    "duration": 11,
    "start_time": "2024-06-04T14:38:26.300Z"
   },
   {
    "duration": 216,
    "start_time": "2024-06-04T14:39:02.426Z"
   },
   {
    "duration": 328,
    "start_time": "2024-06-04T14:39:23.650Z"
   },
   {
    "duration": 211,
    "start_time": "2024-06-04T14:45:35.275Z"
   },
   {
    "duration": 225,
    "start_time": "2024-06-04T14:46:06.159Z"
   },
   {
    "duration": 211,
    "start_time": "2024-06-04T14:46:26.168Z"
   },
   {
    "duration": 313,
    "start_time": "2024-06-04T14:47:54.033Z"
   },
   {
    "duration": 71,
    "start_time": "2024-06-04T14:48:26.671Z"
   },
   {
    "duration": 3,
    "start_time": "2024-06-04T14:48:53.315Z"
   },
   {
    "duration": 317,
    "start_time": "2024-06-04T14:49:04.507Z"
   },
   {
    "duration": 269,
    "start_time": "2024-06-04T14:49:22.903Z"
   },
   {
    "duration": 1255,
    "start_time": "2024-06-04T14:49:44.666Z"
   },
   {
    "duration": 4,
    "start_time": "2024-06-04T14:49:45.924Z"
   },
   {
    "duration": 904,
    "start_time": "2024-06-04T14:49:45.934Z"
   },
   {
    "duration": 1452,
    "start_time": "2024-06-04T14:49:46.840Z"
   },
   {
    "duration": 976,
    "start_time": "2024-06-04T14:49:48.293Z"
   },
   {
    "duration": 15,
    "start_time": "2024-06-04T14:49:49.271Z"
   },
   {
    "duration": 21,
    "start_time": "2024-06-04T14:49:49.288Z"
   },
   {
    "duration": 38,
    "start_time": "2024-06-04T14:49:49.311Z"
   },
   {
    "duration": 398,
    "start_time": "2024-06-04T14:49:49.351Z"
   },
   {
    "duration": 0,
    "start_time": "2024-06-04T14:49:49.751Z"
   },
   {
    "duration": 0,
    "start_time": "2024-06-04T14:49:49.752Z"
   },
   {
    "duration": 0,
    "start_time": "2024-06-04T14:49:49.753Z"
   },
   {
    "duration": 1,
    "start_time": "2024-06-04T14:49:49.754Z"
   },
   {
    "duration": 1,
    "start_time": "2024-06-04T14:49:49.755Z"
   },
   {
    "duration": 0,
    "start_time": "2024-06-04T14:49:49.757Z"
   },
   {
    "duration": 0,
    "start_time": "2024-06-04T14:49:49.758Z"
   },
   {
    "duration": 1,
    "start_time": "2024-06-04T14:49:49.758Z"
   },
   {
    "duration": 0,
    "start_time": "2024-06-04T14:49:49.760Z"
   },
   {
    "duration": 0,
    "start_time": "2024-06-04T14:49:49.761Z"
   },
   {
    "duration": 0,
    "start_time": "2024-06-04T14:49:49.762Z"
   },
   {
    "duration": 0,
    "start_time": "2024-06-04T14:49:49.763Z"
   },
   {
    "duration": 0,
    "start_time": "2024-06-04T14:49:49.764Z"
   },
   {
    "duration": 0,
    "start_time": "2024-06-04T14:49:49.765Z"
   },
   {
    "duration": 3,
    "start_time": "2024-06-04T14:51:12.210Z"
   },
   {
    "duration": 1211,
    "start_time": "2024-06-04T14:51:18.455Z"
   },
   {
    "duration": 3,
    "start_time": "2024-06-04T14:51:19.668Z"
   },
   {
    "duration": 882,
    "start_time": "2024-06-04T14:51:19.672Z"
   },
   {
    "duration": 643,
    "start_time": "2024-06-04T14:51:20.556Z"
   },
   {
    "duration": 715,
    "start_time": "2024-06-04T14:51:21.201Z"
   },
   {
    "duration": 15,
    "start_time": "2024-06-04T14:51:21.918Z"
   },
   {
    "duration": 26,
    "start_time": "2024-06-04T14:51:21.935Z"
   },
   {
    "duration": 28,
    "start_time": "2024-06-04T14:51:21.963Z"
   },
   {
    "duration": 15,
    "start_time": "2024-06-04T14:51:21.993Z"
   },
   {
    "duration": 19,
    "start_time": "2024-06-04T14:51:22.011Z"
   },
   {
    "duration": 13,
    "start_time": "2024-06-04T14:51:22.031Z"
   },
   {
    "duration": 8,
    "start_time": "2024-06-04T14:51:22.061Z"
   },
   {
    "duration": 19,
    "start_time": "2024-06-04T14:51:22.071Z"
   },
   {
    "duration": 9,
    "start_time": "2024-06-04T14:51:22.092Z"
   },
   {
    "duration": 15,
    "start_time": "2024-06-04T14:51:22.103Z"
   },
   {
    "duration": 204,
    "start_time": "2024-06-04T14:51:22.119Z"
   },
   {
    "duration": 127,
    "start_time": "2024-06-04T14:51:22.325Z"
   },
   {
    "duration": 14,
    "start_time": "2024-06-04T14:51:22.453Z"
   },
   {
    "duration": 281,
    "start_time": "2024-06-04T14:51:22.469Z"
   },
   {
    "duration": 194,
    "start_time": "2024-06-04T14:51:22.752Z"
   },
   {
    "duration": 321,
    "start_time": "2024-06-04T14:51:22.948Z"
   },
   {
    "duration": 0,
    "start_time": "2024-06-04T14:51:23.271Z"
   },
   {
    "duration": 0,
    "start_time": "2024-06-04T14:51:23.272Z"
   },
   {
    "duration": 45,
    "start_time": "2024-06-04T16:47:04.583Z"
   },
   {
    "duration": 1253,
    "start_time": "2024-06-04T16:47:10.139Z"
   },
   {
    "duration": 3,
    "start_time": "2024-06-04T16:47:11.394Z"
   },
   {
    "duration": 1671,
    "start_time": "2024-06-04T16:47:11.398Z"
   },
   {
    "duration": 1240,
    "start_time": "2024-06-04T16:47:13.071Z"
   },
   {
    "duration": 1272,
    "start_time": "2024-06-04T16:47:14.312Z"
   },
   {
    "duration": 10,
    "start_time": "2024-06-04T16:47:15.586Z"
   },
   {
    "duration": 26,
    "start_time": "2024-06-04T16:47:15.598Z"
   },
   {
    "duration": 16,
    "start_time": "2024-06-04T16:47:15.626Z"
   },
   {
    "duration": 16,
    "start_time": "2024-06-04T16:47:15.643Z"
   },
   {
    "duration": 22,
    "start_time": "2024-06-04T16:47:15.661Z"
   },
   {
    "duration": 7,
    "start_time": "2024-06-04T16:47:15.684Z"
   },
   {
    "duration": 51,
    "start_time": "2024-06-04T16:47:15.692Z"
   },
   {
    "duration": 21,
    "start_time": "2024-06-04T16:47:15.744Z"
   },
   {
    "duration": 6,
    "start_time": "2024-06-04T16:47:15.767Z"
   },
   {
    "duration": 18,
    "start_time": "2024-06-04T16:47:15.774Z"
   },
   {
    "duration": 169,
    "start_time": "2024-06-04T16:47:15.793Z"
   },
   {
    "duration": 109,
    "start_time": "2024-06-04T16:47:15.963Z"
   },
   {
    "duration": 9,
    "start_time": "2024-06-04T16:47:16.073Z"
   },
   {
    "duration": 242,
    "start_time": "2024-06-04T16:47:16.083Z"
   },
   {
    "duration": 148,
    "start_time": "2024-06-04T16:47:16.327Z"
   },
   {
    "duration": 277,
    "start_time": "2024-06-04T16:47:16.476Z"
   },
   {
    "duration": 0,
    "start_time": "2024-06-04T16:47:16.755Z"
   },
   {
    "duration": 0,
    "start_time": "2024-06-04T16:47:16.757Z"
   },
   {
    "duration": 3,
    "start_time": "2024-06-04T16:54:27.616Z"
   },
   {
    "duration": 30,
    "start_time": "2024-06-04T16:54:51.171Z"
   },
   {
    "duration": 4,
    "start_time": "2024-06-04T16:56:00.742Z"
   },
   {
    "duration": 3,
    "start_time": "2024-06-04T16:56:46.752Z"
   },
   {
    "duration": 19,
    "start_time": "2024-06-04T16:57:17.459Z"
   },
   {
    "duration": 24,
    "start_time": "2024-06-04T16:57:49.076Z"
   },
   {
    "duration": 186,
    "start_time": "2024-06-04T16:58:21.044Z"
   },
   {
    "duration": 1072,
    "start_time": "2024-06-04T16:58:33.905Z"
   },
   {
    "duration": 2,
    "start_time": "2024-06-04T16:58:34.979Z"
   },
   {
    "duration": 1155,
    "start_time": "2024-06-04T16:58:34.983Z"
   },
   {
    "duration": 1095,
    "start_time": "2024-06-04T16:58:36.140Z"
   },
   {
    "duration": 1142,
    "start_time": "2024-06-04T16:58:37.236Z"
   },
   {
    "duration": 4,
    "start_time": "2024-06-04T16:58:38.379Z"
   },
   {
    "duration": 34,
    "start_time": "2024-06-04T16:58:38.385Z"
   },
   {
    "duration": 3,
    "start_time": "2024-06-04T16:58:38.420Z"
   },
   {
    "duration": 21,
    "start_time": "2024-06-04T16:58:38.424Z"
   },
   {
    "duration": 24,
    "start_time": "2024-06-04T16:58:38.447Z"
   },
   {
    "duration": 13,
    "start_time": "2024-06-04T16:58:38.472Z"
   },
   {
    "duration": 45,
    "start_time": "2024-06-04T16:58:38.487Z"
   },
   {
    "duration": 11,
    "start_time": "2024-06-04T16:58:38.533Z"
   },
   {
    "duration": 6,
    "start_time": "2024-06-04T16:58:38.546Z"
   },
   {
    "duration": 8,
    "start_time": "2024-06-04T16:58:38.553Z"
   },
   {
    "duration": 15,
    "start_time": "2024-06-04T16:58:38.562Z"
   },
   {
    "duration": 12,
    "start_time": "2024-06-04T16:58:38.579Z"
   },
   {
    "duration": 148,
    "start_time": "2024-06-04T16:58:38.592Z"
   },
   {
    "duration": 111,
    "start_time": "2024-06-04T16:58:38.741Z"
   },
   {
    "duration": 8,
    "start_time": "2024-06-04T16:58:38.853Z"
   },
   {
    "duration": 236,
    "start_time": "2024-06-04T16:58:38.862Z"
   },
   {
    "duration": 156,
    "start_time": "2024-06-04T16:58:39.099Z"
   },
   {
    "duration": 267,
    "start_time": "2024-06-04T16:58:39.256Z"
   },
   {
    "duration": 0,
    "start_time": "2024-06-04T16:58:39.525Z"
   },
   {
    "duration": 0,
    "start_time": "2024-06-04T16:58:39.526Z"
   },
   {
    "duration": 179,
    "start_time": "2024-06-04T17:03:09.359Z"
   },
   {
    "duration": 142,
    "start_time": "2024-06-04T17:05:27.286Z"
   },
   {
    "duration": 158,
    "start_time": "2024-06-04T17:05:56.687Z"
   },
   {
    "duration": 141,
    "start_time": "2024-06-04T17:07:46.259Z"
   },
   {
    "duration": 229,
    "start_time": "2024-06-04T17:08:04.255Z"
   },
   {
    "duration": 143,
    "start_time": "2024-06-04T17:08:53.686Z"
   },
   {
    "duration": 236,
    "start_time": "2024-06-04T17:11:07.287Z"
   },
   {
    "duration": 157,
    "start_time": "2024-06-04T17:11:20.529Z"
   },
   {
    "duration": 154,
    "start_time": "2024-06-04T17:11:34.657Z"
   },
   {
    "duration": 179,
    "start_time": "2024-06-04T17:12:22.934Z"
   },
   {
    "duration": 178,
    "start_time": "2024-06-04T17:12:33.145Z"
   },
   {
    "duration": 240,
    "start_time": "2024-06-04T17:19:59.952Z"
   },
   {
    "duration": 246,
    "start_time": "2024-06-04T17:21:46.376Z"
   },
   {
    "duration": 273,
    "start_time": "2024-06-04T17:32:04.865Z"
   },
   {
    "duration": 352,
    "start_time": "2024-06-04T17:33:10.904Z"
   },
   {
    "duration": 318,
    "start_time": "2024-06-04T17:33:40.495Z"
   },
   {
    "duration": 326,
    "start_time": "2024-06-04T17:34:17.921Z"
   },
   {
    "duration": 9,
    "start_time": "2024-06-04T17:46:59.179Z"
   },
   {
    "duration": 119,
    "start_time": "2024-06-04T17:47:27.482Z"
   },
   {
    "duration": 4,
    "start_time": "2024-06-04T17:49:30.504Z"
   },
   {
    "duration": 4,
    "start_time": "2024-06-04T17:49:55.364Z"
   },
   {
    "duration": 4,
    "start_time": "2024-06-04T17:50:44.716Z"
   },
   {
    "duration": 6,
    "start_time": "2024-06-04T17:51:12.653Z"
   },
   {
    "duration": 3,
    "start_time": "2024-06-04T17:51:36.041Z"
   },
   {
    "duration": 4,
    "start_time": "2024-06-04T17:51:52.404Z"
   },
   {
    "duration": 129,
    "start_time": "2024-06-04T17:53:30.897Z"
   },
   {
    "duration": 117,
    "start_time": "2024-06-04T17:54:15.859Z"
   },
   {
    "duration": 124,
    "start_time": "2024-06-04T17:55:08.064Z"
   },
   {
    "duration": 118,
    "start_time": "2024-06-04T17:55:18.095Z"
   },
   {
    "duration": 112,
    "start_time": "2024-06-04T17:57:24.612Z"
   },
   {
    "duration": 4,
    "start_time": "2024-06-04T17:57:30.054Z"
   },
   {
    "duration": 5,
    "start_time": "2024-06-04T18:02:56.143Z"
   },
   {
    "duration": 116,
    "start_time": "2024-06-04T18:07:59.688Z"
   },
   {
    "duration": 113,
    "start_time": "2024-06-04T18:08:13.226Z"
   },
   {
    "duration": 118,
    "start_time": "2024-06-04T18:08:35.344Z"
   },
   {
    "duration": 3,
    "start_time": "2024-06-04T18:09:11.581Z"
   },
   {
    "duration": 8,
    "start_time": "2024-06-04T18:12:45.070Z"
   },
   {
    "duration": 210,
    "start_time": "2024-06-04T18:13:04.229Z"
   },
   {
    "duration": 10,
    "start_time": "2024-06-04T18:17:09.983Z"
   },
   {
    "duration": 118,
    "start_time": "2024-06-04T18:20:01.962Z"
   },
   {
    "duration": 168,
    "start_time": "2024-06-04T18:20:27.080Z"
   },
   {
    "duration": 4,
    "start_time": "2024-06-04T18:21:39.961Z"
   },
   {
    "duration": 121,
    "start_time": "2024-06-04T18:31:12.696Z"
   },
   {
    "duration": 9,
    "start_time": "2024-06-04T18:34:19.359Z"
   },
   {
    "duration": 679,
    "start_time": "2024-06-04T18:34:48.593Z"
   },
   {
    "duration": 678,
    "start_time": "2024-06-04T18:36:54.684Z"
   },
   {
    "duration": 688,
    "start_time": "2024-06-04T18:36:56.121Z"
   },
   {
    "duration": 423,
    "start_time": "2024-06-04T18:48:48.753Z"
   },
   {
    "duration": 423,
    "start_time": "2024-06-04T18:49:56.761Z"
   },
   {
    "duration": 265,
    "start_time": "2024-06-04T18:56:04.812Z"
   },
   {
    "duration": 185,
    "start_time": "2024-06-04T18:56:36.266Z"
   },
   {
    "duration": 263,
    "start_time": "2024-06-04T18:58:13.250Z"
   },
   {
    "duration": 10,
    "start_time": "2024-06-04T19:02:34.805Z"
   },
   {
    "duration": 10,
    "start_time": "2024-06-04T19:02:50.717Z"
   },
   {
    "duration": 4,
    "start_time": "2024-06-04T19:07:50.525Z"
   },
   {
    "duration": 8,
    "start_time": "2024-06-04T19:12:27.719Z"
   },
   {
    "duration": 7,
    "start_time": "2024-06-04T19:14:53.258Z"
   },
   {
    "duration": 29,
    "start_time": "2024-06-04T19:15:30.261Z"
   },
   {
    "duration": 19,
    "start_time": "2024-06-04T19:16:46.961Z"
   },
   {
    "duration": 12,
    "start_time": "2024-06-04T19:21:51.778Z"
   },
   {
    "duration": 3,
    "start_time": "2024-06-04T19:53:56.140Z"
   },
   {
    "duration": 29,
    "start_time": "2024-06-04T19:54:10.517Z"
   },
   {
    "duration": 20,
    "start_time": "2024-06-04T19:58:26.433Z"
   },
   {
    "duration": 1023,
    "start_time": "2024-06-04T19:58:43.957Z"
   },
   {
    "duration": 3,
    "start_time": "2024-06-04T19:58:44.981Z"
   },
   {
    "duration": 1041,
    "start_time": "2024-06-04T19:58:44.985Z"
   },
   {
    "duration": 1621,
    "start_time": "2024-06-04T19:58:46.028Z"
   },
   {
    "duration": 2075,
    "start_time": "2024-06-04T19:58:47.651Z"
   },
   {
    "duration": 4,
    "start_time": "2024-06-04T19:58:49.727Z"
   },
   {
    "duration": 29,
    "start_time": "2024-06-04T19:58:49.732Z"
   },
   {
    "duration": 2,
    "start_time": "2024-06-04T19:58:49.762Z"
   },
   {
    "duration": 23,
    "start_time": "2024-06-04T19:58:49.766Z"
   },
   {
    "duration": 40,
    "start_time": "2024-06-04T19:58:49.791Z"
   },
   {
    "duration": 11,
    "start_time": "2024-06-04T19:58:49.833Z"
   },
   {
    "duration": 17,
    "start_time": "2024-06-04T19:58:49.845Z"
   },
   {
    "duration": 7,
    "start_time": "2024-06-04T19:58:49.863Z"
   },
   {
    "duration": 7,
    "start_time": "2024-06-04T19:58:49.871Z"
   },
   {
    "duration": 4,
    "start_time": "2024-06-04T19:58:49.879Z"
   },
   {
    "duration": 166,
    "start_time": "2024-06-04T19:58:49.884Z"
   },
   {
    "duration": 109,
    "start_time": "2024-06-04T19:58:50.052Z"
   },
   {
    "duration": 8,
    "start_time": "2024-06-04T19:58:50.163Z"
   },
   {
    "duration": 251,
    "start_time": "2024-06-04T19:58:50.172Z"
   },
   {
    "duration": 168,
    "start_time": "2024-06-04T19:58:50.425Z"
   },
   {
    "duration": 286,
    "start_time": "2024-06-04T19:58:50.594Z"
   },
   {
    "duration": 186,
    "start_time": "2024-06-04T19:58:50.881Z"
   },
   {
    "duration": 291,
    "start_time": "2024-06-04T19:58:51.068Z"
   },
   {
    "duration": 8,
    "start_time": "2024-06-04T19:58:51.360Z"
   },
   {
    "duration": 112,
    "start_time": "2024-06-04T19:58:51.369Z"
   },
   {
    "duration": 4,
    "start_time": "2024-06-04T19:58:51.482Z"
   },
   {
    "duration": 129,
    "start_time": "2024-06-04T19:58:51.487Z"
   },
   {
    "duration": 180,
    "start_time": "2024-06-04T19:58:51.619Z"
   },
   {
    "duration": 3,
    "start_time": "2024-06-04T19:58:51.800Z"
   },
   {
    "duration": 9,
    "start_time": "2024-06-04T19:58:51.805Z"
   },
   {
    "duration": 196,
    "start_time": "2024-06-04T19:58:51.815Z"
   },
   {
    "duration": 260,
    "start_time": "2024-06-04T19:58:52.012Z"
   },
   {
    "duration": 9,
    "start_time": "2024-06-04T19:58:52.273Z"
   },
   {
    "duration": 14,
    "start_time": "2024-06-04T19:58:52.283Z"
   },
   {
    "duration": 9,
    "start_time": "2024-06-04T19:58:52.299Z"
   },
   {
    "duration": 29,
    "start_time": "2024-06-04T19:58:52.310Z"
   },
   {
    "duration": 11,
    "start_time": "2024-06-04T19:58:52.341Z"
   },
   {
    "duration": 75,
    "start_time": "2024-06-06T06:45:38.840Z"
   },
   {
    "duration": 58,
    "start_time": "2024-06-06T06:46:34.050Z"
   },
   {
    "duration": 58,
    "start_time": "2024-06-06T06:49:34.078Z"
   },
   {
    "duration": 54,
    "start_time": "2024-06-06T06:53:21.260Z"
   },
   {
    "duration": 98,
    "start_time": "2024-06-06T06:53:38.771Z"
   },
   {
    "duration": 1485,
    "start_time": "2024-06-06T07:01:11.397Z"
   },
   {
    "duration": 4,
    "start_time": "2024-06-06T07:01:12.884Z"
   },
   {
    "duration": 1029,
    "start_time": "2024-06-06T07:01:14.056Z"
   },
   {
    "duration": 947,
    "start_time": "2024-06-06T07:01:25.164Z"
   },
   {
    "duration": 1054,
    "start_time": "2024-06-06T07:01:29.565Z"
   },
   {
    "duration": 6,
    "start_time": "2024-06-06T07:01:40.361Z"
   },
   {
    "duration": 899,
    "start_time": "2024-06-06T07:02:11.019Z"
   },
   {
    "duration": 1244,
    "start_time": "2024-06-06T07:02:36.844Z"
   },
   {
    "duration": 4,
    "start_time": "2024-06-06T07:02:38.092Z"
   },
   {
    "duration": 674,
    "start_time": "2024-06-06T07:02:38.098Z"
   },
   {
    "duration": 612,
    "start_time": "2024-06-06T07:02:38.775Z"
   },
   {
    "duration": 688,
    "start_time": "2024-06-06T07:02:39.389Z"
   },
   {
    "duration": 8,
    "start_time": "2024-06-06T07:02:40.079Z"
   },
   {
    "duration": 52,
    "start_time": "2024-06-06T07:02:40.089Z"
   },
   {
    "duration": 13,
    "start_time": "2024-06-06T07:02:40.143Z"
   },
   {
    "duration": 34,
    "start_time": "2024-06-06T07:02:40.158Z"
   },
   {
    "duration": 65,
    "start_time": "2024-06-06T07:02:40.196Z"
   },
   {
    "duration": 21,
    "start_time": "2024-06-06T07:02:40.263Z"
   },
   {
    "duration": 31,
    "start_time": "2024-06-06T07:02:40.287Z"
   },
   {
    "duration": 11,
    "start_time": "2024-06-06T07:02:40.320Z"
   },
   {
    "duration": 30,
    "start_time": "2024-06-06T07:02:40.333Z"
   },
   {
    "duration": 7,
    "start_time": "2024-06-06T07:02:40.365Z"
   },
   {
    "duration": 235,
    "start_time": "2024-06-06T07:02:40.374Z"
   },
   {
    "duration": 144,
    "start_time": "2024-06-06T07:02:40.611Z"
   },
   {
    "duration": 10,
    "start_time": "2024-06-06T07:02:40.757Z"
   },
   {
    "duration": 364,
    "start_time": "2024-06-06T07:02:40.768Z"
   },
   {
    "duration": 199,
    "start_time": "2024-06-06T07:02:41.133Z"
   },
   {
    "duration": 374,
    "start_time": "2024-06-06T07:02:41.334Z"
   },
   {
    "duration": 239,
    "start_time": "2024-06-06T07:02:41.709Z"
   },
   {
    "duration": 398,
    "start_time": "2024-06-06T07:02:41.958Z"
   },
   {
    "duration": 15,
    "start_time": "2024-06-06T07:02:42.357Z"
   },
   {
    "duration": 184,
    "start_time": "2024-06-06T07:02:42.374Z"
   },
   {
    "duration": 6,
    "start_time": "2024-06-06T07:02:42.559Z"
   },
   {
    "duration": 194,
    "start_time": "2024-06-06T07:02:42.567Z"
   },
   {
    "duration": 231,
    "start_time": "2024-06-06T07:02:42.765Z"
   },
   {
    "duration": 3,
    "start_time": "2024-06-06T07:02:42.999Z"
   },
   {
    "duration": 13,
    "start_time": "2024-06-06T07:02:43.004Z"
   },
   {
    "duration": 257,
    "start_time": "2024-06-06T07:02:43.019Z"
   },
   {
    "duration": 309,
    "start_time": "2024-06-06T07:02:43.278Z"
   },
   {
    "duration": 12,
    "start_time": "2024-06-06T07:02:43.589Z"
   },
   {
    "duration": 9,
    "start_time": "2024-06-06T07:02:43.604Z"
   },
   {
    "duration": 16,
    "start_time": "2024-06-06T07:02:43.616Z"
   },
   {
    "duration": 48,
    "start_time": "2024-06-06T07:02:43.634Z"
   },
   {
    "duration": 16,
    "start_time": "2024-06-06T07:02:43.684Z"
   },
   {
    "duration": 10,
    "start_time": "2024-06-06T07:03:26.562Z"
   },
   {
    "duration": 11,
    "start_time": "2024-06-06T07:03:59.985Z"
   },
   {
    "duration": 15,
    "start_time": "2024-06-06T07:04:15.956Z"
   },
   {
    "duration": 14,
    "start_time": "2024-06-06T07:04:26.926Z"
   },
   {
    "duration": 14,
    "start_time": "2024-06-06T07:04:47.422Z"
   },
   {
    "duration": 59,
    "start_time": "2024-06-06T07:06:51.108Z"
   },
   {
    "duration": 200,
    "start_time": "2024-06-06T07:14:45.643Z"
   },
   {
    "duration": 220,
    "start_time": "2024-06-06T07:15:02.916Z"
   },
   {
    "duration": 257,
    "start_time": "2024-06-06T07:15:30.574Z"
   },
   {
    "duration": 274,
    "start_time": "2024-06-06T07:15:46.511Z"
   },
   {
    "duration": 404,
    "start_time": "2024-06-06T07:15:59.139Z"
   },
   {
    "duration": 260,
    "start_time": "2024-06-06T07:16:11.979Z"
   },
   {
    "duration": 357,
    "start_time": "2024-06-06T07:16:30.854Z"
   },
   {
    "duration": 300,
    "start_time": "2024-06-06T07:17:20.803Z"
   },
   {
    "duration": 164,
    "start_time": "2024-06-06T07:17:47.526Z"
   },
   {
    "duration": 5,
    "start_time": "2024-06-06T07:17:55.224Z"
   },
   {
    "duration": 265,
    "start_time": "2024-06-06T07:17:58.164Z"
   },
   {
    "duration": 172,
    "start_time": "2024-06-06T07:18:05.806Z"
   },
   {
    "duration": 5,
    "start_time": "2024-06-06T07:18:40.829Z"
   },
   {
    "duration": 15,
    "start_time": "2024-06-06T07:20:26.112Z"
   },
   {
    "duration": 14,
    "start_time": "2024-06-06T07:20:47.412Z"
   },
   {
    "duration": 6,
    "start_time": "2024-06-06T07:20:59.531Z"
   },
   {
    "duration": 6,
    "start_time": "2024-06-06T07:21:05.400Z"
   },
   {
    "duration": 13,
    "start_time": "2024-06-06T07:21:47.968Z"
   },
   {
    "duration": 1242,
    "start_time": "2024-06-06T07:22:29.437Z"
   },
   {
    "duration": 4,
    "start_time": "2024-06-06T07:22:30.681Z"
   },
   {
    "duration": 1043,
    "start_time": "2024-06-06T07:22:30.687Z"
   },
   {
    "duration": 916,
    "start_time": "2024-06-06T07:22:31.732Z"
   },
   {
    "duration": 1844,
    "start_time": "2024-06-06T07:22:32.650Z"
   },
   {
    "duration": 6,
    "start_time": "2024-06-06T07:22:34.496Z"
   },
   {
    "duration": 38,
    "start_time": "2024-06-06T07:22:34.503Z"
   },
   {
    "duration": 4,
    "start_time": "2024-06-06T07:22:34.543Z"
   },
   {
    "duration": 35,
    "start_time": "2024-06-06T07:22:34.549Z"
   },
   {
    "duration": 34,
    "start_time": "2024-06-06T07:22:34.588Z"
   },
   {
    "duration": 20,
    "start_time": "2024-06-06T07:22:34.628Z"
   },
   {
    "duration": 26,
    "start_time": "2024-06-06T07:22:34.657Z"
   },
   {
    "duration": 15,
    "start_time": "2024-06-06T07:22:34.686Z"
   },
   {
    "duration": 12,
    "start_time": "2024-06-06T07:22:34.703Z"
   },
   {
    "duration": 10,
    "start_time": "2024-06-06T07:22:34.717Z"
   },
   {
    "duration": 190,
    "start_time": "2024-06-06T07:22:34.759Z"
   },
   {
    "duration": 137,
    "start_time": "2024-06-06T07:22:34.951Z"
   },
   {
    "duration": 14,
    "start_time": "2024-06-06T07:22:35.090Z"
   },
   {
    "duration": 304,
    "start_time": "2024-06-06T07:22:35.106Z"
   },
   {
    "duration": 236,
    "start_time": "2024-06-06T07:22:35.412Z"
   },
   {
    "duration": 408,
    "start_time": "2024-06-06T07:22:35.650Z"
   },
   {
    "duration": 292,
    "start_time": "2024-06-06T07:22:36.060Z"
   },
   {
    "duration": 348,
    "start_time": "2024-06-06T07:22:36.366Z"
   },
   {
    "duration": 14,
    "start_time": "2024-06-06T07:22:36.716Z"
   },
   {
    "duration": 188,
    "start_time": "2024-06-06T07:22:36.732Z"
   },
   {
    "duration": 5,
    "start_time": "2024-06-06T07:22:36.922Z"
   },
   {
    "duration": 181,
    "start_time": "2024-06-06T07:22:36.929Z"
   },
   {
    "duration": 232,
    "start_time": "2024-06-06T07:22:37.113Z"
   },
   {
    "duration": 12,
    "start_time": "2024-06-06T07:22:37.347Z"
   },
   {
    "duration": 15,
    "start_time": "2024-06-06T07:22:37.361Z"
   },
   {
    "duration": 256,
    "start_time": "2024-06-06T07:22:37.378Z"
   },
   {
    "duration": 485,
    "start_time": "2024-06-06T07:22:37.636Z"
   },
   {
    "duration": 15,
    "start_time": "2024-06-06T07:22:38.123Z"
   },
   {
    "duration": 22,
    "start_time": "2024-06-06T07:22:38.140Z"
   },
   {
    "duration": 10,
    "start_time": "2024-06-06T07:22:38.164Z"
   },
   {
    "duration": 54,
    "start_time": "2024-06-06T07:22:38.176Z"
   },
   {
    "duration": 34,
    "start_time": "2024-06-06T07:22:38.232Z"
   },
   {
    "duration": 12,
    "start_time": "2024-06-06T07:23:48.290Z"
   }
  ],
  "kernelspec": {
   "display_name": "Python 3 (ipykernel)",
   "language": "python",
   "name": "python3"
  },
  "language_info": {
   "codemirror_mode": {
    "name": "ipython",
    "version": 3
   },
   "file_extension": ".py",
   "mimetype": "text/x-python",
   "name": "python",
   "nbconvert_exporter": "python",
   "pygments_lexer": "ipython3",
   "version": "3.11.5"
  },
  "toc": {
   "base_numbering": 1,
   "nav_menu": {},
   "number_sections": false,
   "sideBar": true,
   "skip_h1_title": false,
   "title_cell": "Table of Contents",
   "title_sidebar": "Contents",
   "toc_cell": false,
   "toc_position": {
    "height": "calc(100% - 180px)",
    "left": "10px",
    "top": "150px",
    "width": "264.429px"
   },
   "toc_section_display": true,
   "toc_window_display": false
  }
 },
 "nbformat": 4,
 "nbformat_minor": 2
}
